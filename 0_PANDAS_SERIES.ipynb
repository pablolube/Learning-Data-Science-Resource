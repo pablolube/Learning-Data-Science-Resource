{
  "nbformat": 4,
  "nbformat_minor": 0,
  "metadata": {
    "colab": {
      "provenance": [],
      "toc_visible": true
    },
    "kernelspec": {
      "name": "python3",
      "display_name": "Python 3"
    },
    "language_info": {
      "name": "python"
    }
  },
  "cells": [
    {
      "cell_type": "markdown",
      "source": [
        "# Qué es Pandas?\n",
        "Pandas es una biblioteca de software de código abierto diseñada para la manipulación y el análisis de datos en Python. Es potente, flexible y fácil de usar.\n",
        "\n",
        "**Con Pandas, puedes:**\n",
        "\n",
        "\n",
        "1.   **Manipular datos:** Cargar datos desde fuentes como archivos CSV, bases de datos o incluso páginas web. Luego, puedes filtrar, ordenar, agregar o eliminar información.\n",
        "\n",
        "2.  **Limpiar datos:** Manejar valores faltantes, errores tipográficos o información duplicada.\n",
        "\n",
        "3. **Análisis rápido:** Calcular estadísticas como promedios, medianas o desviaciones estándar.\n",
        "\n",
        "4. **Visualización de datos: **  Pandas trabaja muy bien con bibliotecas como Matplotlib y Seaborn para crear gráficos y visualizaciones.\n",
        "\n",
        "**Estructuras de Datos de Pandas**\n",
        "\n",
        "\n",
        "**DataFrame**: Una estructura bidimensional (similar a una tabla) con filas y columnas. Cada columna puede contener diferentes tipos de datos (números, texto, fechas, etc.).\n",
        "\n",
        "**Series**: Una estructura unidimensional (como una lista) con etiquetas para cada valor. Puedes pensar en una serie como una columna individual de un DataFrame."
      ],
      "metadata": {
        "id": "Ud3tEl6RD58C"
      }
    },
    {
      "cell_type": "markdown",
      "source": [
        "# PANDAS INICIO"
      ],
      "metadata": {
        "id": "2IIx2jUGOXMr"
      }
    },
    {
      "cell_type": "markdown",
      "source": [
        "## IMPORTAR LIBRERIA"
      ],
      "metadata": {
        "id": "4z0R6jerDj_e"
      }
    },
    {
      "cell_type": "code",
      "source": [
        "import pandas as pd #importo pandas"
      ],
      "metadata": {
        "id": "DfWQskzP7_RG"
      },
      "execution_count": null,
      "outputs": []
    },
    {
      "cell_type": "markdown",
      "source": [
        "## Pandas Series"
      ],
      "metadata": {
        "id": "J2AOgrNbOrvt"
      }
    },
    {
      "cell_type": "markdown",
      "source": [
        "### **CREO UNA SERIE**"
      ],
      "metadata": {
        "id": "CyHnsXiq9hAD"
      }
    },
    {
      "cell_type": "code",
      "source": [
        "notas=pd.Series([5,3,5,4,3,5,4,2,4,3,4],index=[\"Juan\",\"Jeniffer\",\"David\",\"Pablo\",\"Armando\",\"Magdalena\",\"Francesa\",\"Pedro\",\"Marcos\",\"Javier\",\"Lucia\"],name='SerieX')"
      ],
      "metadata": {
        "id": "IuJkpjo5OwCI"
      },
      "execution_count": null,
      "outputs": []
    },
    {
      "cell_type": "code",
      "source": [
        "notas"
      ],
      "metadata": {
        "colab": {
          "base_uri": "https://localhost:8080/",
          "height": 429
        },
        "id": "qYFZh1eMOW0I",
        "outputId": "7b7fcca3-b4e0-468f-ae4b-cc9959e58995"
      },
      "execution_count": null,
      "outputs": [
        {
          "output_type": "execute_result",
          "data": {
            "text/plain": [
              "Juan         5\n",
              "Jeniffer     3\n",
              "David        5\n",
              "Pablo        4\n",
              "Armando      3\n",
              "Magdalena    5\n",
              "Francesa     4\n",
              "Pedro        2\n",
              "Marcos       4\n",
              "Javier       3\n",
              "Lucia        4\n",
              "Name: SerieX, dtype: int64"
            ],
            "text/html": [
              "<div>\n",
              "<style scoped>\n",
              "    .dataframe tbody tr th:only-of-type {\n",
              "        vertical-align: middle;\n",
              "    }\n",
              "\n",
              "    .dataframe tbody tr th {\n",
              "        vertical-align: top;\n",
              "    }\n",
              "\n",
              "    .dataframe thead th {\n",
              "        text-align: right;\n",
              "    }\n",
              "</style>\n",
              "<table border=\"1\" class=\"dataframe\">\n",
              "  <thead>\n",
              "    <tr style=\"text-align: right;\">\n",
              "      <th></th>\n",
              "      <th>SerieX</th>\n",
              "    </tr>\n",
              "  </thead>\n",
              "  <tbody>\n",
              "    <tr>\n",
              "      <th>Juan</th>\n",
              "      <td>5</td>\n",
              "    </tr>\n",
              "    <tr>\n",
              "      <th>Jeniffer</th>\n",
              "      <td>3</td>\n",
              "    </tr>\n",
              "    <tr>\n",
              "      <th>David</th>\n",
              "      <td>5</td>\n",
              "    </tr>\n",
              "    <tr>\n",
              "      <th>Pablo</th>\n",
              "      <td>4</td>\n",
              "    </tr>\n",
              "    <tr>\n",
              "      <th>Armando</th>\n",
              "      <td>3</td>\n",
              "    </tr>\n",
              "    <tr>\n",
              "      <th>Magdalena</th>\n",
              "      <td>5</td>\n",
              "    </tr>\n",
              "    <tr>\n",
              "      <th>Francesa</th>\n",
              "      <td>4</td>\n",
              "    </tr>\n",
              "    <tr>\n",
              "      <th>Pedro</th>\n",
              "      <td>2</td>\n",
              "    </tr>\n",
              "    <tr>\n",
              "      <th>Marcos</th>\n",
              "      <td>4</td>\n",
              "    </tr>\n",
              "    <tr>\n",
              "      <th>Javier</th>\n",
              "      <td>3</td>\n",
              "    </tr>\n",
              "    <tr>\n",
              "      <th>Lucia</th>\n",
              "      <td>4</td>\n",
              "    </tr>\n",
              "  </tbody>\n",
              "</table>\n",
              "</div><br><label><b>dtype:</b> int64</label>"
            ]
          },
          "metadata": {},
          "execution_count": 48
        }
      ]
    },
    {
      "cell_type": "code",
      "source": [
        "a = [5,3,5,4,3,5,4,2,4,3,4]\n",
        "\n",
        "notas2 = pd.Series(a, index = [\"Juan\",\"Jeniffer\",\"David\",\"Pablo\",\"Armando\",\"Magdalena\",\"Francesa\",\"Pedro\",\"Marcos\",\"Javier\",\"Lucia\"],name='Nombres')\n",
        "\n",
        "notas2"
      ],
      "metadata": {
        "colab": {
          "base_uri": "https://localhost:8080/",
          "height": 429
        },
        "id": "EGkYfTrvIVk5",
        "outputId": "ac3753f7-a58a-47e9-f11d-8bb7f96f20e6"
      },
      "execution_count": null,
      "outputs": [
        {
          "output_type": "execute_result",
          "data": {
            "text/plain": [
              "Juan         5\n",
              "Jeniffer     3\n",
              "David        5\n",
              "Pablo        4\n",
              "Armando      3\n",
              "Magdalena    5\n",
              "Francesa     4\n",
              "Pedro        2\n",
              "Marcos       4\n",
              "Javier       3\n",
              "Lucia        4\n",
              "Name: Nombres, dtype: int64"
            ],
            "text/html": [
              "<div>\n",
              "<style scoped>\n",
              "    .dataframe tbody tr th:only-of-type {\n",
              "        vertical-align: middle;\n",
              "    }\n",
              "\n",
              "    .dataframe tbody tr th {\n",
              "        vertical-align: top;\n",
              "    }\n",
              "\n",
              "    .dataframe thead th {\n",
              "        text-align: right;\n",
              "    }\n",
              "</style>\n",
              "<table border=\"1\" class=\"dataframe\">\n",
              "  <thead>\n",
              "    <tr style=\"text-align: right;\">\n",
              "      <th></th>\n",
              "      <th>Nombres</th>\n",
              "    </tr>\n",
              "  </thead>\n",
              "  <tbody>\n",
              "    <tr>\n",
              "      <th>Juan</th>\n",
              "      <td>5</td>\n",
              "    </tr>\n",
              "    <tr>\n",
              "      <th>Jeniffer</th>\n",
              "      <td>3</td>\n",
              "    </tr>\n",
              "    <tr>\n",
              "      <th>David</th>\n",
              "      <td>5</td>\n",
              "    </tr>\n",
              "    <tr>\n",
              "      <th>Pablo</th>\n",
              "      <td>4</td>\n",
              "    </tr>\n",
              "    <tr>\n",
              "      <th>Armando</th>\n",
              "      <td>3</td>\n",
              "    </tr>\n",
              "    <tr>\n",
              "      <th>Magdalena</th>\n",
              "      <td>5</td>\n",
              "    </tr>\n",
              "    <tr>\n",
              "      <th>Francesa</th>\n",
              "      <td>4</td>\n",
              "    </tr>\n",
              "    <tr>\n",
              "      <th>Pedro</th>\n",
              "      <td>2</td>\n",
              "    </tr>\n",
              "    <tr>\n",
              "      <th>Marcos</th>\n",
              "      <td>4</td>\n",
              "    </tr>\n",
              "    <tr>\n",
              "      <th>Javier</th>\n",
              "      <td>3</td>\n",
              "    </tr>\n",
              "    <tr>\n",
              "      <th>Lucia</th>\n",
              "      <td>4</td>\n",
              "    </tr>\n",
              "  </tbody>\n",
              "</table>\n",
              "</div><br><label><b>dtype:</b> int64</label>"
            ]
          },
          "metadata": {},
          "execution_count": 49
        }
      ]
    },
    {
      "cell_type": "markdown",
      "source": [
        "Crear como **Diccionario**\n",
        "\n"
      ],
      "metadata": {
        "id": "viB1np84I810"
      }
    },
    {
      "cell_type": "markdown",
      "source": [
        "También puedes usar un objeto clave/valor, como un diccionario, al crear una Serie.\n",
        "\n",
        "Ejemplo\n",
        "\n",
        "Crea una Serie simple de Pandas a partir de un diccionario:"
      ],
      "metadata": {
        "id": "fld8Tv3BIyr2"
      }
    },
    {
      "cell_type": "code",
      "source": [
        "calories = {\"day1\": 420, \"day2\": 380, \"day3\": 390}\n",
        "\n",
        "calorias = pd.Series(calories,name='Calorias')\n",
        "\n",
        "calorias\n"
      ],
      "metadata": {
        "colab": {
          "base_uri": "https://localhost:8080/",
          "height": 178
        },
        "id": "sa5l9ZG1IxIR",
        "outputId": "b09b95f9-b073-41cd-a68e-c41f456364c8"
      },
      "execution_count": null,
      "outputs": [
        {
          "output_type": "execute_result",
          "data": {
            "text/plain": [
              "day1    420\n",
              "day2    380\n",
              "day3    390\n",
              "Name: Calorias, dtype: int64"
            ],
            "text/html": [
              "<div>\n",
              "<style scoped>\n",
              "    .dataframe tbody tr th:only-of-type {\n",
              "        vertical-align: middle;\n",
              "    }\n",
              "\n",
              "    .dataframe tbody tr th {\n",
              "        vertical-align: top;\n",
              "    }\n",
              "\n",
              "    .dataframe thead th {\n",
              "        text-align: right;\n",
              "    }\n",
              "</style>\n",
              "<table border=\"1\" class=\"dataframe\">\n",
              "  <thead>\n",
              "    <tr style=\"text-align: right;\">\n",
              "      <th></th>\n",
              "      <th>Calorias</th>\n",
              "    </tr>\n",
              "  </thead>\n",
              "  <tbody>\n",
              "    <tr>\n",
              "      <th>day1</th>\n",
              "      <td>420</td>\n",
              "    </tr>\n",
              "    <tr>\n",
              "      <th>day2</th>\n",
              "      <td>380</td>\n",
              "    </tr>\n",
              "    <tr>\n",
              "      <th>day3</th>\n",
              "      <td>390</td>\n",
              "    </tr>\n",
              "  </tbody>\n",
              "</table>\n",
              "</div><br><label><b>dtype:</b> int64</label>"
            ]
          },
          "metadata": {},
          "execution_count": 50
        }
      ]
    },
    {
      "cell_type": "markdown",
      "source": [
        "### **ATRIBUTOS DE UNA SERIE**\n"
      ],
      "metadata": {
        "id": "GxQ2WPu2_REn"
      }
    },
    {
      "cell_type": "code",
      "source": [
        "notas=pd.Series([5,3,5,4,3,5,4,2,4,3,4],index=[\"Juan\",\"Jeniffer\",\"David\",\"Pablo\",\"Armando\",\"Magdalena\",\"Francesa\",\"Pedro\",\"Marcos\",\"Javier\",\"Lucia\"])"
      ],
      "metadata": {
        "id": "yLGHH60kAn1b"
      },
      "execution_count": null,
      "outputs": []
    },
    {
      "cell_type": "code",
      "source": [
        "notas.size"
      ],
      "metadata": {
        "colab": {
          "base_uri": "https://localhost:8080/"
        },
        "id": "ZeeQlUfo_aKn",
        "outputId": "d09045be-af44-49e2-a41c-f2f6583e33b8"
      },
      "execution_count": null,
      "outputs": [
        {
          "output_type": "execute_result",
          "data": {
            "text/plain": [
              "11"
            ]
          },
          "metadata": {},
          "execution_count": 52
        }
      ]
    },
    {
      "cell_type": "code",
      "source": [
        "print(notas.index)"
      ],
      "metadata": {
        "colab": {
          "base_uri": "https://localhost:8080/"
        },
        "id": "AF4A_UiA_aBs",
        "outputId": "f7a6db13-e5ac-4529-9666-3ed21031e079"
      },
      "execution_count": null,
      "outputs": [
        {
          "output_type": "stream",
          "name": "stdout",
          "text": [
            "Index(['Juan', 'Jeniffer', 'David', 'Pablo', 'Armando', 'Magdalena',\n",
            "       'Francesa', 'Pedro', 'Marcos', 'Javier', 'Lucia'],\n",
            "      dtype='object')\n"
          ]
        }
      ]
    },
    {
      "cell_type": "code",
      "source": [
        "print(notas.dtype)"
      ],
      "metadata": {
        "colab": {
          "base_uri": "https://localhost:8080/"
        },
        "id": "KEFmLzYE_Z_Z",
        "outputId": "121d8c4d-b980-41a8-b6c3-33293c935904"
      },
      "execution_count": null,
      "outputs": [
        {
          "output_type": "stream",
          "name": "stdout",
          "text": [
            "int64\n"
          ]
        }
      ]
    },
    {
      "cell_type": "code",
      "source": [
        "print(notas.values) #Arreglo de valores de la serie"
      ],
      "metadata": {
        "colab": {
          "base_uri": "https://localhost:8080/"
        },
        "id": "p_vbSpE8RRmE",
        "outputId": "2478b6ea-4539-4f18-909e-a17ed40c3f9c"
      },
      "execution_count": null,
      "outputs": [
        {
          "output_type": "stream",
          "name": "stdout",
          "text": [
            "[5 3 5 4 3 5 4 2 4 3 4]\n"
          ]
        }
      ]
    },
    {
      "cell_type": "markdown",
      "source": [
        "### **CAMBIOS DE INDICE**"
      ],
      "metadata": {
        "id": "mhgKpS7I_wG_"
      }
    },
    {
      "cell_type": "code",
      "source": [
        "notas=pd.Series([5,3,5,4,3,2,4,2,4,3,4],index=[\"Juan\",\"Jeniffer\",\"David\",\"Pablo\",\"Armando\",\"Magdalena\",\"Francesa\",\"Pedro\",\"Marcos\",\"Javier\",\"Lucia\"])"
      ],
      "metadata": {
        "id": "9KtE6LepAtrw"
      },
      "execution_count": null,
      "outputs": []
    },
    {
      "cell_type": "code",
      "source": [
        "cambio_index=[\"Cuervo\",\"Jeniffer\",\"David\",\"Pablo\",\"Armando\",\"Magdalena\",\"Francesa\",\"Pedro\",\"Marcos\",\"Javier\",\"Lucia\"]\n",
        "\n",
        "notas_arregladas=pd.Series(notas,index=cambio_index)\n",
        "\n",
        "notas_arregladas"
      ],
      "metadata": {
        "colab": {
          "base_uri": "https://localhost:8080/",
          "height": 429
        },
        "id": "Yq3WjdtjRazx",
        "outputId": "ef71fdb3-351a-4dbe-e1e3-fdeaa8a23f8c"
      },
      "execution_count": null,
      "outputs": [
        {
          "output_type": "execute_result",
          "data": {
            "text/plain": [
              "Cuervo       NaN\n",
              "Jeniffer     3.0\n",
              "David        5.0\n",
              "Pablo        4.0\n",
              "Armando      3.0\n",
              "Magdalena    2.0\n",
              "Francesa     4.0\n",
              "Pedro        2.0\n",
              "Marcos       4.0\n",
              "Javier       3.0\n",
              "Lucia        4.0\n",
              "dtype: float64"
            ],
            "text/html": [
              "<div>\n",
              "<style scoped>\n",
              "    .dataframe tbody tr th:only-of-type {\n",
              "        vertical-align: middle;\n",
              "    }\n",
              "\n",
              "    .dataframe tbody tr th {\n",
              "        vertical-align: top;\n",
              "    }\n",
              "\n",
              "    .dataframe thead th {\n",
              "        text-align: right;\n",
              "    }\n",
              "</style>\n",
              "<table border=\"1\" class=\"dataframe\">\n",
              "  <thead>\n",
              "    <tr style=\"text-align: right;\">\n",
              "      <th></th>\n",
              "      <th>0</th>\n",
              "    </tr>\n",
              "  </thead>\n",
              "  <tbody>\n",
              "    <tr>\n",
              "      <th>Cuervo</th>\n",
              "      <td>NaN</td>\n",
              "    </tr>\n",
              "    <tr>\n",
              "      <th>Jeniffer</th>\n",
              "      <td>3.0</td>\n",
              "    </tr>\n",
              "    <tr>\n",
              "      <th>David</th>\n",
              "      <td>5.0</td>\n",
              "    </tr>\n",
              "    <tr>\n",
              "      <th>Pablo</th>\n",
              "      <td>4.0</td>\n",
              "    </tr>\n",
              "    <tr>\n",
              "      <th>Armando</th>\n",
              "      <td>3.0</td>\n",
              "    </tr>\n",
              "    <tr>\n",
              "      <th>Magdalena</th>\n",
              "      <td>2.0</td>\n",
              "    </tr>\n",
              "    <tr>\n",
              "      <th>Francesa</th>\n",
              "      <td>4.0</td>\n",
              "    </tr>\n",
              "    <tr>\n",
              "      <th>Pedro</th>\n",
              "      <td>2.0</td>\n",
              "    </tr>\n",
              "    <tr>\n",
              "      <th>Marcos</th>\n",
              "      <td>4.0</td>\n",
              "    </tr>\n",
              "    <tr>\n",
              "      <th>Javier</th>\n",
              "      <td>3.0</td>\n",
              "    </tr>\n",
              "    <tr>\n",
              "      <th>Lucia</th>\n",
              "      <td>4.0</td>\n",
              "    </tr>\n",
              "  </tbody>\n",
              "</table>\n",
              "</div><br><label><b>dtype:</b> float64</label>"
            ]
          },
          "metadata": {},
          "execution_count": 57
        }
      ]
    },
    {
      "cell_type": "code",
      "source": [
        "notas2=pd.Series([5,3,5,4,3,5,4,2,4,3,4])\n",
        "notas2"
      ],
      "metadata": {
        "colab": {
          "base_uri": "https://localhost:8080/",
          "height": 429
        },
        "id": "9UCJBE5lRa1a",
        "outputId": "b31a1b87-47c3-4eea-9b04-5e3a9bd7ce44"
      },
      "execution_count": null,
      "outputs": [
        {
          "output_type": "execute_result",
          "data": {
            "text/plain": [
              "0     5\n",
              "1     3\n",
              "2     5\n",
              "3     4\n",
              "4     3\n",
              "5     5\n",
              "6     4\n",
              "7     2\n",
              "8     4\n",
              "9     3\n",
              "10    4\n",
              "dtype: int64"
            ],
            "text/html": [
              "<div>\n",
              "<style scoped>\n",
              "    .dataframe tbody tr th:only-of-type {\n",
              "        vertical-align: middle;\n",
              "    }\n",
              "\n",
              "    .dataframe tbody tr th {\n",
              "        vertical-align: top;\n",
              "    }\n",
              "\n",
              "    .dataframe thead th {\n",
              "        text-align: right;\n",
              "    }\n",
              "</style>\n",
              "<table border=\"1\" class=\"dataframe\">\n",
              "  <thead>\n",
              "    <tr style=\"text-align: right;\">\n",
              "      <th></th>\n",
              "      <th>0</th>\n",
              "    </tr>\n",
              "  </thead>\n",
              "  <tbody>\n",
              "    <tr>\n",
              "      <th>0</th>\n",
              "      <td>5</td>\n",
              "    </tr>\n",
              "    <tr>\n",
              "      <th>1</th>\n",
              "      <td>3</td>\n",
              "    </tr>\n",
              "    <tr>\n",
              "      <th>2</th>\n",
              "      <td>5</td>\n",
              "    </tr>\n",
              "    <tr>\n",
              "      <th>3</th>\n",
              "      <td>4</td>\n",
              "    </tr>\n",
              "    <tr>\n",
              "      <th>4</th>\n",
              "      <td>3</td>\n",
              "    </tr>\n",
              "    <tr>\n",
              "      <th>5</th>\n",
              "      <td>5</td>\n",
              "    </tr>\n",
              "    <tr>\n",
              "      <th>6</th>\n",
              "      <td>4</td>\n",
              "    </tr>\n",
              "    <tr>\n",
              "      <th>7</th>\n",
              "      <td>2</td>\n",
              "    </tr>\n",
              "    <tr>\n",
              "      <th>8</th>\n",
              "      <td>4</td>\n",
              "    </tr>\n",
              "    <tr>\n",
              "      <th>9</th>\n",
              "      <td>3</td>\n",
              "    </tr>\n",
              "    <tr>\n",
              "      <th>10</th>\n",
              "      <td>4</td>\n",
              "    </tr>\n",
              "  </tbody>\n",
              "</table>\n",
              "</div><br><label><b>dtype:</b> int64</label>"
            ]
          },
          "metadata": {},
          "execution_count": 58
        }
      ]
    },
    {
      "cell_type": "markdown",
      "source": [
        "### **LIST COMPRENHENSION`**\n",
        "\n",
        "```\n",
        "# E`sto tiene formato de código`\n",
        "```\n",
        "\n"
      ],
      "metadata": {
        "id": "R1qRRq02_9HO"
      }
    },
    {
      "cell_type": "code",
      "source": [
        "notas3=pd.Series([i for i in range(0,10)])\n",
        "notas3"
      ],
      "metadata": {
        "colab": {
          "base_uri": "https://localhost:8080/",
          "height": 398
        },
        "id": "isJyWd_IRa5O",
        "outputId": "3524a468-1543-467e-dc2e-90fc2940e20b"
      },
      "execution_count": null,
      "outputs": [
        {
          "output_type": "execute_result",
          "data": {
            "text/plain": [
              "0    0\n",
              "1    1\n",
              "2    2\n",
              "3    3\n",
              "4    4\n",
              "5    5\n",
              "6    6\n",
              "7    7\n",
              "8    8\n",
              "9    9\n",
              "dtype: int64"
            ],
            "text/html": [
              "<div>\n",
              "<style scoped>\n",
              "    .dataframe tbody tr th:only-of-type {\n",
              "        vertical-align: middle;\n",
              "    }\n",
              "\n",
              "    .dataframe tbody tr th {\n",
              "        vertical-align: top;\n",
              "    }\n",
              "\n",
              "    .dataframe thead th {\n",
              "        text-align: right;\n",
              "    }\n",
              "</style>\n",
              "<table border=\"1\" class=\"dataframe\">\n",
              "  <thead>\n",
              "    <tr style=\"text-align: right;\">\n",
              "      <th></th>\n",
              "      <th>0</th>\n",
              "    </tr>\n",
              "  </thead>\n",
              "  <tbody>\n",
              "    <tr>\n",
              "      <th>0</th>\n",
              "      <td>0</td>\n",
              "    </tr>\n",
              "    <tr>\n",
              "      <th>1</th>\n",
              "      <td>1</td>\n",
              "    </tr>\n",
              "    <tr>\n",
              "      <th>2</th>\n",
              "      <td>2</td>\n",
              "    </tr>\n",
              "    <tr>\n",
              "      <th>3</th>\n",
              "      <td>3</td>\n",
              "    </tr>\n",
              "    <tr>\n",
              "      <th>4</th>\n",
              "      <td>4</td>\n",
              "    </tr>\n",
              "    <tr>\n",
              "      <th>5</th>\n",
              "      <td>5</td>\n",
              "    </tr>\n",
              "    <tr>\n",
              "      <th>6</th>\n",
              "      <td>6</td>\n",
              "    </tr>\n",
              "    <tr>\n",
              "      <th>7</th>\n",
              "      <td>7</td>\n",
              "    </tr>\n",
              "    <tr>\n",
              "      <th>8</th>\n",
              "      <td>8</td>\n",
              "    </tr>\n",
              "    <tr>\n",
              "      <th>9</th>\n",
              "      <td>9</td>\n",
              "    </tr>\n",
              "  </tbody>\n",
              "</table>\n",
              "</div><br><label><b>dtype:</b> int64</label>"
            ]
          },
          "metadata": {},
          "execution_count": 59
        }
      ]
    },
    {
      "cell_type": "markdown",
      "source": [
        "### **ACCESO A ELEMENTOS DE UNA SERIE**"
      ],
      "metadata": {
        "id": "i6aIy7TdBISu"
      }
    },
    {
      "cell_type": "code",
      "source": [
        "import pandas as pd\n",
        "s = pd.Series(['Matemáticas', 'Historia', 'Economía', 'Programación', 'Inglés'], dtype='string')\n",
        "print(s)"
      ],
      "metadata": {
        "colab": {
          "base_uri": "https://localhost:8080/"
        },
        "id": "48uSJB8fCTQR",
        "outputId": "e4b2677b-694a-4fe3-bfb6-ec80afcbb96b"
      },
      "execution_count": null,
      "outputs": [
        {
          "output_type": "stream",
          "name": "stdout",
          "text": [
            "0     Matemáticas\n",
            "1        Historia\n",
            "2        Economía\n",
            "3    Programación\n",
            "4          Inglés\n",
            "dtype: string\n"
          ]
        }
      ]
    },
    {
      "cell_type": "markdown",
      "source": [
        "ACCESO POR PORCION"
      ],
      "metadata": {
        "id": "MtMhik6eCBiM"
      }
    },
    {
      "cell_type": "code",
      "source": [
        "#s[i] : Devuelve el elemento que ocupa la posición i+1 en la serie s.\n",
        "\n",
        "print(\"s[0]\"+\"   \"+s[0])\n",
        "print(\"s[0:2] \")\n",
        "print(s[0:2])\n",
        "print(\"s[0:] \")\n",
        "print(s[0:])\n",
        "#s[posiciones]: Devuelve otra serie con los elementos que ocupan las posiciones de la lista posiciones.\n"
      ],
      "metadata": {
        "colab": {
          "base_uri": "https://localhost:8080/"
        },
        "id": "TkbGRsDSBNX5",
        "outputId": "9d57b651-ba29-4864-90ef-31f19528c3c1"
      },
      "execution_count": null,
      "outputs": [
        {
          "output_type": "stream",
          "name": "stdout",
          "text": [
            "s[0]   Matemáticas\n",
            "s[0:2] \n",
            "0    Matemáticas\n",
            "1       Historia\n",
            "dtype: string\n",
            "s[0:] \n",
            "0     Matemáticas\n",
            "1        Historia\n",
            "2        Economía\n",
            "3    Programación\n",
            "4          Inglés\n",
            "dtype: string\n"
          ]
        }
      ]
    },
    {
      "cell_type": "markdown",
      "source": [
        "ACCESO POR INDICE"
      ],
      "metadata": {
        "id": "_rai5bceB5Pr"
      }
    },
    {
      "cell_type": "code",
      "source": [
        "s=pd.Series(['Programación', 'Matemáticas'])\n",
        "s\n",
        "#s[nombre] : Devuelve el elemento con el nombre nombre en el índice.\n",
        "\n",
        "#s[nombres] : Devuelve otra serie con los elementos correspondientes a los nombres indicadas en la lista nombres en el índice\n"
      ],
      "metadata": {
        "colab": {
          "base_uri": "https://localhost:8080/",
          "height": 147
        },
        "id": "RGANyDOLBNll",
        "outputId": "98218a3e-c522-468a-dc25-a72cbe5b4ada"
      },
      "execution_count": null,
      "outputs": [
        {
          "output_type": "execute_result",
          "data": {
            "text/plain": [
              "0    Programación\n",
              "1     Matemáticas\n",
              "dtype: object"
            ],
            "text/html": [
              "<div>\n",
              "<style scoped>\n",
              "    .dataframe tbody tr th:only-of-type {\n",
              "        vertical-align: middle;\n",
              "    }\n",
              "\n",
              "    .dataframe tbody tr th {\n",
              "        vertical-align: top;\n",
              "    }\n",
              "\n",
              "    .dataframe thead th {\n",
              "        text-align: right;\n",
              "    }\n",
              "</style>\n",
              "<table border=\"1\" class=\"dataframe\">\n",
              "  <thead>\n",
              "    <tr style=\"text-align: right;\">\n",
              "      <th></th>\n",
              "      <th>0</th>\n",
              "    </tr>\n",
              "  </thead>\n",
              "  <tbody>\n",
              "    <tr>\n",
              "      <th>0</th>\n",
              "      <td>Programación</td>\n",
              "    </tr>\n",
              "    <tr>\n",
              "      <th>1</th>\n",
              "      <td>Matemáticas</td>\n",
              "    </tr>\n",
              "  </tbody>\n",
              "</table>\n",
              "</div><br><label><b>dtype:</b> object</label>"
            ]
          },
          "metadata": {},
          "execution_count": 62
        }
      ]
    },
    {
      "cell_type": "markdown",
      "source": [
        "RESUMEN DESCRIPTIVO - DE UNA SERIE"
      ],
      "metadata": {
        "id": "vFvhXrWLDzmt"
      }
    },
    {
      "cell_type": "markdown",
      "source": [
        "# Funciones comunes para Series en Pandas\n",
        "\n",
        "A continuación, se describen algunas funciones útiles para trabajar con objetos de tipo **Series** en la biblioteca **pandas**.\n",
        "\n",
        "---\n",
        "\n",
        "## `s.count()`\n",
        "Devuelve el número de elementos que **no son nulos** ni **NaN** en la serie `s`.\n",
        "\n",
        "---\n",
        "\n",
        "## `s.sum()`\n",
        "- Devuelve la **suma** de los datos de la serie `s` si son numéricos.\n",
        "- Devuelve la **concatenación** de los datos si son cadenas (`str`).\n",
        "\n",
        "---\n",
        "\n",
        "## `s.cumsum()`\n",
        "Devuelve una nueva serie con la **suma acumulada** de los datos en la serie `s` (solo para datos numéricos).\n",
        "\n",
        "---\n",
        "\n",
        "## `s.value_counts()`\n",
        "Devuelve una serie con la **frecuencia** (número de repeticiones) de cada valor en la serie `s`.\n",
        "\n",
        "---\n",
        "\n",
        "## `s.min()`\n",
        "Devuelve el **valor mínimo** de los datos en la serie `s`.\n",
        "\n",
        "---\n",
        "\n",
        "## `s.max()`\n",
        "Devuelve el **valor máximo** de los datos en la serie `s`.\n",
        "\n",
        "---\n",
        "\n",
        "## `s.mean()`\n",
        "Devuelve la **media** de los datos en la serie `s` (solo para datos numéricos).\n",
        "\n",
        "---\n",
        "\n",
        "## `s.var()`\n",
        "Devuelve la **varianza** de los datos en la serie `s` (solo para datos numéricos).\n",
        "\n",
        "---\n",
        "\n",
        "## `s.std()`\n",
        "Devuelve la **desviación típica** de los datos en la serie `s` (solo para datos numéricos).\n",
        "\n",
        "---\n",
        "\n",
        "## `s.describe()`\n",
        "Devuelve una serie con un **resumen descriptivo** de los datos, que incluye:\n",
        "- Número de elementos\n",
        "- Suma\n",
        "- Mínimo\n",
        "- Máximo\n",
        "- Media\n",
        "- Desviación típica\n",
        "- Cuartiles\n"
      ],
      "metadata": {
        "id": "bMvEKhBXRenT"
      }
    },
    {
      "cell_type": "code",
      "source": [
        "import pandas as pd\n",
        "s=pd.Series([1, 1, 1, 1, 2, 2, 2, 3, 3, 4])"
      ],
      "metadata": {
        "id": "c9vMdMmZEW4N"
      },
      "execution_count": null,
      "outputs": []
    },
    {
      "cell_type": "code",
      "source": [
        "s.count() # sumo todo\n",
        "s[0:1].count() #sumo algunas posiciones"
      ],
      "metadata": {
        "id": "dZ3nhhkJEIyz",
        "colab": {
          "base_uri": "https://localhost:8080/"
        },
        "outputId": "c82f231f-450f-407e-da68-6e8063bde359"
      },
      "execution_count": null,
      "outputs": [
        {
          "output_type": "execute_result",
          "data": {
            "text/plain": [
              "1"
            ]
          },
          "metadata": {},
          "execution_count": 64
        }
      ]
    },
    {
      "cell_type": "code",
      "source": [
        "s.sum()"
      ],
      "metadata": {
        "id": "2CR2f2uUFWEK",
        "colab": {
          "base_uri": "https://localhost:8080/"
        },
        "outputId": "d74800fe-5773-4016-d447-67b3de4c0eef"
      },
      "execution_count": null,
      "outputs": [
        {
          "output_type": "execute_result",
          "data": {
            "text/plain": [
              "20"
            ]
          },
          "metadata": {},
          "execution_count": 65
        }
      ]
    },
    {
      "cell_type": "code",
      "source": [
        "s.cumsum()"
      ],
      "metadata": {
        "colab": {
          "base_uri": "https://localhost:8080/",
          "height": 398
        },
        "id": "i6XVEhohFWG9",
        "outputId": "45f81ccf-4c00-4216-b463-da4a93d0923d"
      },
      "execution_count": null,
      "outputs": [
        {
          "output_type": "execute_result",
          "data": {
            "text/plain": [
              "0     1\n",
              "1     2\n",
              "2     3\n",
              "3     4\n",
              "4     6\n",
              "5     8\n",
              "6    10\n",
              "7    13\n",
              "8    16\n",
              "9    20\n",
              "dtype: int64"
            ],
            "text/html": [
              "<div>\n",
              "<style scoped>\n",
              "    .dataframe tbody tr th:only-of-type {\n",
              "        vertical-align: middle;\n",
              "    }\n",
              "\n",
              "    .dataframe tbody tr th {\n",
              "        vertical-align: top;\n",
              "    }\n",
              "\n",
              "    .dataframe thead th {\n",
              "        text-align: right;\n",
              "    }\n",
              "</style>\n",
              "<table border=\"1\" class=\"dataframe\">\n",
              "  <thead>\n",
              "    <tr style=\"text-align: right;\">\n",
              "      <th></th>\n",
              "      <th>0</th>\n",
              "    </tr>\n",
              "  </thead>\n",
              "  <tbody>\n",
              "    <tr>\n",
              "      <th>0</th>\n",
              "      <td>1</td>\n",
              "    </tr>\n",
              "    <tr>\n",
              "      <th>1</th>\n",
              "      <td>2</td>\n",
              "    </tr>\n",
              "    <tr>\n",
              "      <th>2</th>\n",
              "      <td>3</td>\n",
              "    </tr>\n",
              "    <tr>\n",
              "      <th>3</th>\n",
              "      <td>4</td>\n",
              "    </tr>\n",
              "    <tr>\n",
              "      <th>4</th>\n",
              "      <td>6</td>\n",
              "    </tr>\n",
              "    <tr>\n",
              "      <th>5</th>\n",
              "      <td>8</td>\n",
              "    </tr>\n",
              "    <tr>\n",
              "      <th>6</th>\n",
              "      <td>10</td>\n",
              "    </tr>\n",
              "    <tr>\n",
              "      <th>7</th>\n",
              "      <td>13</td>\n",
              "    </tr>\n",
              "    <tr>\n",
              "      <th>8</th>\n",
              "      <td>16</td>\n",
              "    </tr>\n",
              "    <tr>\n",
              "      <th>9</th>\n",
              "      <td>20</td>\n",
              "    </tr>\n",
              "  </tbody>\n",
              "</table>\n",
              "</div><br><label><b>dtype:</b> int64</label>"
            ]
          },
          "metadata": {},
          "execution_count": 66
        }
      ]
    },
    {
      "cell_type": "code",
      "source": [
        "s.value_counts()  # Frecuencias absolutas"
      ],
      "metadata": {
        "colab": {
          "base_uri": "https://localhost:8080/",
          "height": 210
        },
        "id": "iZf_shhcFWKN",
        "outputId": "48634467-1fd0-4c3d-a42a-c2aed7acf7b4"
      },
      "execution_count": null,
      "outputs": [
        {
          "output_type": "execute_result",
          "data": {
            "text/plain": [
              "1    4\n",
              "2    3\n",
              "3    2\n",
              "4    1\n",
              "Name: count, dtype: int64"
            ],
            "text/html": [
              "<div>\n",
              "<style scoped>\n",
              "    .dataframe tbody tr th:only-of-type {\n",
              "        vertical-align: middle;\n",
              "    }\n",
              "\n",
              "    .dataframe tbody tr th {\n",
              "        vertical-align: top;\n",
              "    }\n",
              "\n",
              "    .dataframe thead th {\n",
              "        text-align: right;\n",
              "    }\n",
              "</style>\n",
              "<table border=\"1\" class=\"dataframe\">\n",
              "  <thead>\n",
              "    <tr style=\"text-align: right;\">\n",
              "      <th></th>\n",
              "      <th>count</th>\n",
              "    </tr>\n",
              "  </thead>\n",
              "  <tbody>\n",
              "    <tr>\n",
              "      <th>1</th>\n",
              "      <td>4</td>\n",
              "    </tr>\n",
              "    <tr>\n",
              "      <th>2</th>\n",
              "      <td>3</td>\n",
              "    </tr>\n",
              "    <tr>\n",
              "      <th>3</th>\n",
              "      <td>2</td>\n",
              "    </tr>\n",
              "    <tr>\n",
              "      <th>4</th>\n",
              "      <td>1</td>\n",
              "    </tr>\n",
              "  </tbody>\n",
              "</table>\n",
              "</div><br><label><b>dtype:</b> int64</label>"
            ]
          },
          "metadata": {},
          "execution_count": 67
        }
      ]
    },
    {
      "cell_type": "code",
      "source": [
        "s.value_counts(normalize=True)  # Frecuencias relativas"
      ],
      "metadata": {
        "colab": {
          "base_uri": "https://localhost:8080/",
          "height": 210
        },
        "id": "Jqb7SdUUFWPU",
        "outputId": "7d4a84ae-f7e1-439e-f69c-dddcdb902fa8"
      },
      "execution_count": null,
      "outputs": [
        {
          "output_type": "execute_result",
          "data": {
            "text/plain": [
              "1    0.4\n",
              "2    0.3\n",
              "3    0.2\n",
              "4    0.1\n",
              "Name: proportion, dtype: float64"
            ],
            "text/html": [
              "<div>\n",
              "<style scoped>\n",
              "    .dataframe tbody tr th:only-of-type {\n",
              "        vertical-align: middle;\n",
              "    }\n",
              "\n",
              "    .dataframe tbody tr th {\n",
              "        vertical-align: top;\n",
              "    }\n",
              "\n",
              "    .dataframe thead th {\n",
              "        text-align: right;\n",
              "    }\n",
              "</style>\n",
              "<table border=\"1\" class=\"dataframe\">\n",
              "  <thead>\n",
              "    <tr style=\"text-align: right;\">\n",
              "      <th></th>\n",
              "      <th>proportion</th>\n",
              "    </tr>\n",
              "  </thead>\n",
              "  <tbody>\n",
              "    <tr>\n",
              "      <th>1</th>\n",
              "      <td>0.4</td>\n",
              "    </tr>\n",
              "    <tr>\n",
              "      <th>2</th>\n",
              "      <td>0.3</td>\n",
              "    </tr>\n",
              "    <tr>\n",
              "      <th>3</th>\n",
              "      <td>0.2</td>\n",
              "    </tr>\n",
              "    <tr>\n",
              "      <th>4</th>\n",
              "      <td>0.1</td>\n",
              "    </tr>\n",
              "  </tbody>\n",
              "</table>\n",
              "</div><br><label><b>dtype:</b> float64</label>"
            ]
          },
          "metadata": {},
          "execution_count": 68
        }
      ]
    },
    {
      "cell_type": "code",
      "source": [
        "s.min()  # Mínimo\n",
        "1\n",
        "s.max()  # Máximo\n",
        "4\n",
        "s.mean()  # Media\n",
        "2.0\n",
        "s.var()  # Varianza\n",
        "1.1111111111111112\n",
        "s.std()  # Desviación típica\n"
      ],
      "metadata": {
        "id": "9k5DUM1pFzTx",
        "colab": {
          "base_uri": "https://localhost:8080/"
        },
        "outputId": "8e17b847-0965-4127-8668-8b07acf87b14"
      },
      "execution_count": null,
      "outputs": [
        {
          "output_type": "execute_result",
          "data": {
            "text/plain": [
              "1.0540925533894598"
            ]
          },
          "metadata": {},
          "execution_count": 69
        }
      ]
    },
    {
      "cell_type": "code",
      "source": [
        "s.describe()"
      ],
      "metadata": {
        "colab": {
          "base_uri": "https://localhost:8080/",
          "height": 335
        },
        "id": "Fy72EgrmFWUL",
        "outputId": "1982ee06-68a1-4121-ef51-6dceaaa921fc"
      },
      "execution_count": null,
      "outputs": [
        {
          "output_type": "execute_result",
          "data": {
            "text/plain": [
              "count    10.000000\n",
              "mean      2.000000\n",
              "std       1.054093\n",
              "min       1.000000\n",
              "25%       1.000000\n",
              "50%       2.000000\n",
              "75%       2.750000\n",
              "max       4.000000\n",
              "dtype: float64"
            ],
            "text/html": [
              "<div>\n",
              "<style scoped>\n",
              "    .dataframe tbody tr th:only-of-type {\n",
              "        vertical-align: middle;\n",
              "    }\n",
              "\n",
              "    .dataframe tbody tr th {\n",
              "        vertical-align: top;\n",
              "    }\n",
              "\n",
              "    .dataframe thead th {\n",
              "        text-align: right;\n",
              "    }\n",
              "</style>\n",
              "<table border=\"1\" class=\"dataframe\">\n",
              "  <thead>\n",
              "    <tr style=\"text-align: right;\">\n",
              "      <th></th>\n",
              "      <th>0</th>\n",
              "    </tr>\n",
              "  </thead>\n",
              "  <tbody>\n",
              "    <tr>\n",
              "      <th>count</th>\n",
              "      <td>10.000000</td>\n",
              "    </tr>\n",
              "    <tr>\n",
              "      <th>mean</th>\n",
              "      <td>2.000000</td>\n",
              "    </tr>\n",
              "    <tr>\n",
              "      <th>std</th>\n",
              "      <td>1.054093</td>\n",
              "    </tr>\n",
              "    <tr>\n",
              "      <th>min</th>\n",
              "      <td>1.000000</td>\n",
              "    </tr>\n",
              "    <tr>\n",
              "      <th>25%</th>\n",
              "      <td>1.000000</td>\n",
              "    </tr>\n",
              "    <tr>\n",
              "      <th>50%</th>\n",
              "      <td>2.000000</td>\n",
              "    </tr>\n",
              "    <tr>\n",
              "      <th>75%</th>\n",
              "      <td>2.750000</td>\n",
              "    </tr>\n",
              "    <tr>\n",
              "      <th>max</th>\n",
              "      <td>4.000000</td>\n",
              "    </tr>\n",
              "  </tbody>\n",
              "</table>\n",
              "</div><br><label><b>dtype:</b> float64</label>"
            ]
          },
          "metadata": {},
          "execution_count": 70
        }
      ]
    },
    {
      "cell_type": "code",
      "source": [
        "# Conteo de valores no tiene en cuenta los NaN\n",
        "s.value_counts()"
      ],
      "metadata": {
        "colab": {
          "base_uri": "https://localhost:8080/",
          "height": 210
        },
        "id": "JW69LCvCl0R9",
        "outputId": "a09ac84d-ec10-49ed-b9ac-e12825858fca"
      },
      "execution_count": null,
      "outputs": [
        {
          "output_type": "execute_result",
          "data": {
            "text/plain": [
              "1    4\n",
              "2    3\n",
              "3    2\n",
              "4    1\n",
              "Name: count, dtype: int64"
            ],
            "text/html": [
              "<div>\n",
              "<style scoped>\n",
              "    .dataframe tbody tr th:only-of-type {\n",
              "        vertical-align: middle;\n",
              "    }\n",
              "\n",
              "    .dataframe tbody tr th {\n",
              "        vertical-align: top;\n",
              "    }\n",
              "\n",
              "    .dataframe thead th {\n",
              "        text-align: right;\n",
              "    }\n",
              "</style>\n",
              "<table border=\"1\" class=\"dataframe\">\n",
              "  <thead>\n",
              "    <tr style=\"text-align: right;\">\n",
              "      <th></th>\n",
              "      <th>count</th>\n",
              "    </tr>\n",
              "  </thead>\n",
              "  <tbody>\n",
              "    <tr>\n",
              "      <th>1</th>\n",
              "      <td>4</td>\n",
              "    </tr>\n",
              "    <tr>\n",
              "      <th>2</th>\n",
              "      <td>3</td>\n",
              "    </tr>\n",
              "    <tr>\n",
              "      <th>3</th>\n",
              "      <td>2</td>\n",
              "    </tr>\n",
              "    <tr>\n",
              "      <th>4</th>\n",
              "      <td>1</td>\n",
              "    </tr>\n",
              "  </tbody>\n",
              "</table>\n",
              "</div><br><label><b>dtype:</b> int64</label>"
            ]
          },
          "metadata": {},
          "execution_count": 71
        }
      ]
    },
    {
      "cell_type": "code",
      "source": [
        "s.isnull().sum() # cuenta valores nulos"
      ],
      "metadata": {
        "colab": {
          "base_uri": "https://localhost:8080/"
        },
        "id": "Va4utczuoRtQ",
        "outputId": "1089b6d0-837c-4e70-a5c7-e447b22aa01e"
      },
      "execution_count": null,
      "outputs": [
        {
          "output_type": "execute_result",
          "data": {
            "text/plain": [
              "0"
            ]
          },
          "metadata": {},
          "execution_count": 72
        }
      ]
    },
    {
      "cell_type": "markdown",
      "source": [
        "\n",
        "### Aplicar operaciones a una serie"
      ],
      "metadata": {
        "id": "2MSXdNLRGOuc"
      }
    },
    {
      "cell_type": "markdown",
      "source": [
        "Los operadores binarios (+, *, /, etc.) pueden utilizarse con una serie, y devuelven otra serie con el resultado de aplicar la operación a cada elemento de la serie.\n",
        "\n"
      ],
      "metadata": {
        "id": "rU7PqkbaGcri"
      }
    },
    {
      "cell_type": "markdown",
      "source": [
        "### FUNCIONES"
      ],
      "metadata": {
        "id": "CjKi8mNEGcjH"
      }
    },
    {
      "cell_type": "code",
      "source": [
        "# s.apply(f) : Devuelve una serie con el resultado de aplicar la función f a cada uno de los elementos de la serie s.\n"
      ],
      "metadata": {
        "id": "goy67RaAGTVc"
      },
      "execution_count": null,
      "outputs": []
    },
    {
      "cell_type": "code",
      "source": [
        "import pandas as pd\n",
        "from math import log\n",
        "s = pd.Series([1, 2, 3, 4])\n",
        "s.apply(log)\n",
        "\n"
      ],
      "metadata": {
        "colab": {
          "base_uri": "https://localhost:8080/",
          "height": 210
        },
        "id": "cIL18jIoGTRI",
        "outputId": "b14ce010-122f-40b1-fbd7-60c9697ae9ae"
      },
      "execution_count": null,
      "outputs": [
        {
          "output_type": "execute_result",
          "data": {
            "text/plain": [
              "0    0.000000\n",
              "1    0.693147\n",
              "2    1.098612\n",
              "3    1.386294\n",
              "dtype: float64"
            ],
            "text/html": [
              "<div>\n",
              "<style scoped>\n",
              "    .dataframe tbody tr th:only-of-type {\n",
              "        vertical-align: middle;\n",
              "    }\n",
              "\n",
              "    .dataframe tbody tr th {\n",
              "        vertical-align: top;\n",
              "    }\n",
              "\n",
              "    .dataframe thead th {\n",
              "        text-align: right;\n",
              "    }\n",
              "</style>\n",
              "<table border=\"1\" class=\"dataframe\">\n",
              "  <thead>\n",
              "    <tr style=\"text-align: right;\">\n",
              "      <th></th>\n",
              "      <th>0</th>\n",
              "    </tr>\n",
              "  </thead>\n",
              "  <tbody>\n",
              "    <tr>\n",
              "      <th>0</th>\n",
              "      <td>0.000000</td>\n",
              "    </tr>\n",
              "    <tr>\n",
              "      <th>1</th>\n",
              "      <td>0.693147</td>\n",
              "    </tr>\n",
              "    <tr>\n",
              "      <th>2</th>\n",
              "      <td>1.098612</td>\n",
              "    </tr>\n",
              "    <tr>\n",
              "      <th>3</th>\n",
              "      <td>1.386294</td>\n",
              "    </tr>\n",
              "  </tbody>\n",
              "</table>\n",
              "</div><br><label><b>dtype:</b> float64</label>"
            ]
          },
          "metadata": {},
          "execution_count": 87
        }
      ]
    },
    {
      "cell_type": "code",
      "source": [
        "s = pd.Series(['a', 'b', 'c'])\n",
        "s.apply(str.upper)\n"
      ],
      "metadata": {
        "colab": {
          "base_uri": "https://localhost:8080/",
          "height": 178
        },
        "id": "rqqtNG8QVoT-",
        "outputId": "3f5b38e7-da97-430c-bfe7-85864936636f"
      },
      "execution_count": null,
      "outputs": [
        {
          "output_type": "execute_result",
          "data": {
            "text/plain": [
              "0    A\n",
              "1    B\n",
              "2    C\n",
              "dtype: object"
            ],
            "text/html": [
              "<div>\n",
              "<style scoped>\n",
              "    .dataframe tbody tr th:only-of-type {\n",
              "        vertical-align: middle;\n",
              "    }\n",
              "\n",
              "    .dataframe tbody tr th {\n",
              "        vertical-align: top;\n",
              "    }\n",
              "\n",
              "    .dataframe thead th {\n",
              "        text-align: right;\n",
              "    }\n",
              "</style>\n",
              "<table border=\"1\" class=\"dataframe\">\n",
              "  <thead>\n",
              "    <tr style=\"text-align: right;\">\n",
              "      <th></th>\n",
              "      <th>0</th>\n",
              "    </tr>\n",
              "  </thead>\n",
              "  <tbody>\n",
              "    <tr>\n",
              "      <th>0</th>\n",
              "      <td>A</td>\n",
              "    </tr>\n",
              "    <tr>\n",
              "      <th>1</th>\n",
              "      <td>B</td>\n",
              "    </tr>\n",
              "    <tr>\n",
              "      <th>2</th>\n",
              "      <td>C</td>\n",
              "    </tr>\n",
              "  </tbody>\n",
              "</table>\n",
              "</div><br><label><b>dtype:</b> object</label>"
            ]
          },
          "metadata": {},
          "execution_count": 89
        }
      ]
    },
    {
      "cell_type": "code",
      "source": [
        "# prompt: # s.apply(f) : Devuelve una serie con el resultado de aplicar la función f a cada uno de los elementos de la serie s.\n",
        "\n",
        "import pandas as pd\n",
        "\n",
        "# Ejemplo 1: Función lambda para duplicar los valores\n",
        "s = pd.Series([1, 2, 3, 4, 5])\n",
        "s_duplicado = s.apply(lambda x: x * 2)\n",
        "print(\"Ejemplo 1:\\n\",s_duplicado)\n",
        "\n",
        "\n",
        "# Ejemplo 2: Función definida para convertir números a cadenas\n",
        "def convertir_a_cadena(numero):\n",
        "  return str(numero) + \" cadena\"\n",
        "\n",
        "s_cadena = s.apply(convertir_a_cadena)\n",
        "print(\"\\nEjemplo 2:\\n\",s_cadena)\n",
        "\n",
        "\n",
        "# Ejemplo 3: Función para categorizar valores\n",
        "def categorizar_valor(valor):\n",
        "    if valor < 3:\n",
        "        return \"Bajo\"\n",
        "    elif valor < 5 :\n",
        "        return \"Medio\"\n",
        "    else:\n",
        "        return \"Alto\"\n",
        "\n",
        "s_categorizado = s.apply(categorizar_valor)\n",
        "print(\"\\nEjemplo 3:\\n\", s_categorizado)"
      ],
      "metadata": {
        "colab": {
          "base_uri": "https://localhost:8080/"
        },
        "id": "lcd9Y5TVVGX3",
        "outputId": "803d1bbd-cd2f-4d38-bbac-3a2a34f59595"
      },
      "execution_count": null,
      "outputs": [
        {
          "output_type": "stream",
          "name": "stdout",
          "text": [
            "Ejemplo 1:\n",
            " 0     2\n",
            "1     4\n",
            "2     6\n",
            "3     8\n",
            "4    10\n",
            "dtype: int64\n",
            "\n",
            "Ejemplo 2:\n",
            " 0    1 cadena\n",
            "1    2 cadena\n",
            "2    3 cadena\n",
            "3    4 cadena\n",
            "4    5 cadena\n",
            "dtype: object\n",
            "\n",
            "Ejemplo 3:\n",
            " 0     Bajo\n",
            "1     Bajo\n",
            "2    Medio\n",
            "3    Medio\n",
            "4     Alto\n",
            "dtype: object\n"
          ]
        }
      ]
    },
    {
      "cell_type": "markdown",
      "source": [
        "### FILTROS"
      ],
      "metadata": {
        "id": "S65mNQdLJKKW"
      }
    },
    {
      "cell_type": "markdown",
      "source": [
        "s[condicion] : Devuelve una serie con los elementos de la serie s que se corresponden con el valor True de la lista booleana condicion. condicion debe ser una lista de valores booleanos de la misma longitud que la serie."
      ],
      "metadata": {
        "id": "zYgFhx07JVNf"
      }
    },
    {
      "cell_type": "code",
      "source": [
        "import pandas as pd\n",
        "s = pd.Series({'Matemáticas': 6.0,  'Economía': 4.5, 'Programación': 8.5})\n",
        "s"
      ],
      "metadata": {
        "id": "cHqCp0ISJIP1",
        "colab": {
          "base_uri": "https://localhost:8080/",
          "height": 178
        },
        "outputId": "3e2ae6ca-2c08-454b-8491-2debfcd078f6"
      },
      "execution_count": null,
      "outputs": [
        {
          "output_type": "execute_result",
          "data": {
            "text/plain": [
              "Matemáticas     6.0\n",
              "Economía        4.5\n",
              "Programación    8.5\n",
              "dtype: float64"
            ],
            "text/html": [
              "<div>\n",
              "<style scoped>\n",
              "    .dataframe tbody tr th:only-of-type {\n",
              "        vertical-align: middle;\n",
              "    }\n",
              "\n",
              "    .dataframe tbody tr th {\n",
              "        vertical-align: top;\n",
              "    }\n",
              "\n",
              "    .dataframe thead th {\n",
              "        text-align: right;\n",
              "    }\n",
              "</style>\n",
              "<table border=\"1\" class=\"dataframe\">\n",
              "  <thead>\n",
              "    <tr style=\"text-align: right;\">\n",
              "      <th></th>\n",
              "      <th>0</th>\n",
              "    </tr>\n",
              "  </thead>\n",
              "  <tbody>\n",
              "    <tr>\n",
              "      <th>Matemáticas</th>\n",
              "      <td>6.0</td>\n",
              "    </tr>\n",
              "    <tr>\n",
              "      <th>Economía</th>\n",
              "      <td>4.5</td>\n",
              "    </tr>\n",
              "    <tr>\n",
              "      <th>Programación</th>\n",
              "      <td>8.5</td>\n",
              "    </tr>\n",
              "  </tbody>\n",
              "</table>\n",
              "</div><br><label><b>dtype:</b> float64</label>"
            ]
          },
          "metadata": {},
          "execution_count": 92
        }
      ]
    },
    {
      "cell_type": "code",
      "source": [
        "s[s>5]"
      ],
      "metadata": {
        "colab": {
          "base_uri": "https://localhost:8080/",
          "height": 147
        },
        "id": "_YSzDA65JIUH",
        "outputId": "636f8605-7fd7-441b-a52e-8ae7bc6003fb"
      },
      "execution_count": null,
      "outputs": [
        {
          "output_type": "execute_result",
          "data": {
            "text/plain": [
              "Matemáticas     6.0\n",
              "Programación    8.5\n",
              "dtype: float64"
            ],
            "text/html": [
              "<div>\n",
              "<style scoped>\n",
              "    .dataframe tbody tr th:only-of-type {\n",
              "        vertical-align: middle;\n",
              "    }\n",
              "\n",
              "    .dataframe tbody tr th {\n",
              "        vertical-align: top;\n",
              "    }\n",
              "\n",
              "    .dataframe thead th {\n",
              "        text-align: right;\n",
              "    }\n",
              "</style>\n",
              "<table border=\"1\" class=\"dataframe\">\n",
              "  <thead>\n",
              "    <tr style=\"text-align: right;\">\n",
              "      <th></th>\n",
              "      <th>0</th>\n",
              "    </tr>\n",
              "  </thead>\n",
              "  <tbody>\n",
              "    <tr>\n",
              "      <th>Matemáticas</th>\n",
              "      <td>6.0</td>\n",
              "    </tr>\n",
              "    <tr>\n",
              "      <th>Programación</th>\n",
              "      <td>8.5</td>\n",
              "    </tr>\n",
              "  </tbody>\n",
              "</table>\n",
              "</div><br><label><b>dtype:</b> float64</label>"
            ]
          },
          "metadata": {},
          "execution_count": 94
        }
      ]
    },
    {
      "cell_type": "markdown",
      "source": [
        "### ORDENAR UNA SERIE"
      ],
      "metadata": {
        "id": "epgmDv-PK7jk"
      }
    },
    {
      "cell_type": "markdown",
      "source": [
        "1. s.sort_values(ascending=booleano) : Devuelve la serie que resulta de ordenar los valores la serie s. Si argumento del parámetro ascending es True el orden es creciente y si es False decreciente.\n",
        "\n",
        "2. df.sort_index(ascending=booleano) : Devuelve la serie que resulta de ordenar el índice de la serie s. Si el argumento del parámetro ascending es True el orden es creciente y si es False decreciente."
      ],
      "metadata": {
        "id": "KsKk2pdzLGVP"
      }
    },
    {
      "cell_type": "code",
      "source": [
        "import pandas as pd\n",
        "s = pd.Series({'Matemáticas': 4.0,  'zconomía': 6.0, 'Programación': 8.5})\n",
        "s"
      ],
      "metadata": {
        "colab": {
          "base_uri": "https://localhost:8080/",
          "height": 178
        },
        "id": "_OOl3UJfK8hg",
        "outputId": "c761a56b-fe58-4bcc-9b03-44c5946d66e3"
      },
      "execution_count": null,
      "outputs": [
        {
          "output_type": "execute_result",
          "data": {
            "text/plain": [
              "Matemáticas     4.0\n",
              "zconomía        6.0\n",
              "Programación    8.5\n",
              "dtype: float64"
            ],
            "text/html": [
              "<div>\n",
              "<style scoped>\n",
              "    .dataframe tbody tr th:only-of-type {\n",
              "        vertical-align: middle;\n",
              "    }\n",
              "\n",
              "    .dataframe tbody tr th {\n",
              "        vertical-align: top;\n",
              "    }\n",
              "\n",
              "    .dataframe thead th {\n",
              "        text-align: right;\n",
              "    }\n",
              "</style>\n",
              "<table border=\"1\" class=\"dataframe\">\n",
              "  <thead>\n",
              "    <tr style=\"text-align: right;\">\n",
              "      <th></th>\n",
              "      <th>0</th>\n",
              "    </tr>\n",
              "  </thead>\n",
              "  <tbody>\n",
              "    <tr>\n",
              "      <th>Matemáticas</th>\n",
              "      <td>4.0</td>\n",
              "    </tr>\n",
              "    <tr>\n",
              "      <th>zconomía</th>\n",
              "      <td>6.0</td>\n",
              "    </tr>\n",
              "    <tr>\n",
              "      <th>Programación</th>\n",
              "      <td>8.5</td>\n",
              "    </tr>\n",
              "  </tbody>\n",
              "</table>\n",
              "</div><br><label><b>dtype:</b> float64</label>"
            ]
          },
          "metadata": {},
          "execution_count": 77
        }
      ]
    },
    {
      "cell_type": "code",
      "source": [
        "print(s.sort_values()) # ordena por valores"
      ],
      "metadata": {
        "colab": {
          "base_uri": "https://localhost:8080/"
        },
        "id": "RZzfrzFvLO-o",
        "outputId": "c55f846a-d471-4572-b148-6129164db53e"
      },
      "execution_count": null,
      "outputs": [
        {
          "output_type": "stream",
          "name": "stdout",
          "text": [
            "Economía        4.5\n",
            "Matemáticas     6.0\n",
            "Programación    8.5\n",
            "dtype: float64\n"
          ]
        }
      ]
    },
    {
      "cell_type": "code",
      "source": [
        "print(s.sort_index(ascending = False)) # ordeno decreciente por index"
      ],
      "metadata": {
        "colab": {
          "base_uri": "https://localhost:8080/"
        },
        "id": "l9EL8-kiLOJr",
        "outputId": "705faded-c8f9-476b-efc2-25d2ff225f49"
      },
      "execution_count": null,
      "outputs": [
        {
          "output_type": "stream",
          "name": "stdout",
          "text": [
            "Programación    8.5\n",
            "Matemáticas     6.0\n",
            "Economía        4.5\n",
            "dtype: float64\n"
          ]
        }
      ]
    }
  ]
}