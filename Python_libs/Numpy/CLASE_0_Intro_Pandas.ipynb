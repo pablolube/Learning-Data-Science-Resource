{
  "nbformat": 4,
  "nbformat_minor": 0,
  "metadata": {
    "colab": {
      "provenance": [],
      "toc_visible": true
    },
    "kernelspec": {
      "name": "python3",
      "display_name": "Python 3"
    },
    "language_info": {
      "name": "python"
    }
  },
  "cells": [
    {
      "cell_type": "markdown",
      "source": [
        "# **PANDAS**"
      ],
      "metadata": {
        "id": "U5reZTrL_Q_F"
      }
    },
    {
      "cell_type": "markdown",
      "source": [
        "IMPORTAR LIBRERIA"
      ],
      "metadata": {
        "id": "gHEh9uxX_Wfc"
      }
    },
    {
      "cell_type": "code",
      "execution_count": null,
      "metadata": {
        "id": "DMRzbINx_KUL"
      },
      "outputs": [],
      "source": [
        "import pandas as pd #pd porque es una convencion utilizada globalmente"
      ]
    },
    {
      "cell_type": "markdown",
      "source": [
        "# SERIES"
      ],
      "metadata": {
        "id": "1ig2cXu7_kWe"
      }
    },
    {
      "cell_type": "markdown",
      "source": [
        "CREAR UNA SERIE - CON PANDAS"
      ],
      "metadata": {
        "id": "uyVDlaO1_s70"
      }
    },
    {
      "cell_type": "code",
      "source": [
        "import pandas as pd #pd porque es una convencion utilizada globalmente\n",
        "\n",
        "notas=pd.Series([5.7,8.6,7.6,8.7,9.9,10,9.1], #notas de alumnos le pongo , al final porque luego voy a insertar los indeces\n",
        "  index=[\"Juan\",\"Milagros\",\"Matias\",\"Pedro\",\"Pablo\",\"Penelope\",\"Mateo\"])\n",
        "\n",
        "notas #llamo a la funcion\n"
      ],
      "metadata": {
        "colab": {
          "base_uri": "https://localhost:8080/"
        },
        "id": "w9HSQeQG_19d",
        "outputId": "9aaabc5a-98b8-41a0-f1a9-bd778736b456"
      },
      "execution_count": null,
      "outputs": [
        {
          "output_type": "execute_result",
          "data": {
            "text/plain": [
              "Juan         5.7\n",
              "Milagros     8.6\n",
              "Matias       7.6\n",
              "Pedro        8.7\n",
              "Pablo        9.9\n",
              "Penelope    10.0\n",
              "Mateo        9.1\n",
              "dtype: float64"
            ]
          },
          "metadata": {},
          "execution_count": 5
        }
      ]
    },
    {
      "cell_type": "markdown",
      "source": [
        "QUIERO SABER CUALES SON LOS INDICES"
      ],
      "metadata": {
        "id": "AKPf2pW3BVdE"
      }
    },
    {
      "cell_type": "code",
      "source": [
        "print(notas.index) #Traigo los indices"
      ],
      "metadata": {
        "colab": {
          "base_uri": "https://localhost:8080/"
        },
        "id": "u5KnGNWd_rnK",
        "outputId": "aab05867-9991-4551-8113-0d209524a832"
      },
      "execution_count": null,
      "outputs": [
        {
          "output_type": "stream",
          "name": "stdout",
          "text": [
            "Index(['Juan', 'Milagros', 'Matias', 'Pedro', 'Pablo', 'Penelope', 'Mateo'], dtype='object')\n"
          ]
        }
      ]
    },
    {
      "cell_type": "markdown",
      "source": [
        "QUIERO SABER CUALES SON LOS VALORES\n"
      ],
      "metadata": {
        "id": "3kg-D-YPBaLX"
      }
    },
    {
      "cell_type": "code",
      "source": [
        "print(notas.values) #Traigo los valores"
      ],
      "metadata": {
        "colab": {
          "base_uri": "https://localhost:8080/"
        },
        "id": "uVbXcbsp_yTh",
        "outputId": "d1fb0571-74dd-441f-bcb4-a67f6bfda931"
      },
      "execution_count": null,
      "outputs": [
        {
          "output_type": "stream",
          "name": "stdout",
          "text": [
            "[ 5.7  8.6  7.6  8.7  9.9 10.   9.1]\n"
          ]
        }
      ]
    },
    {
      "cell_type": "markdown",
      "source": [
        "QUIERO MODIFICAR LOS NOMBRES DE LOS INDICES"
      ],
      "metadata": {
        "id": "Nk3b_OQ4Bhpu"
      }
    },
    {
      "cell_type": "code",
      "source": [
        "cambio_indices=[\"Mateo\",\"Javier\",\"Micaela\",\"Pedro\",\"Pablo\",\"Penelope\",\"Juan\"] #genero lista nueva\n",
        "\n",
        "notas_arregladas=pd.Series(notas,index=cambio_indices) #genero nueva variable con cambio de variable index\n",
        "\n",
        "notas_arregladas #imprimo lista"
      ],
      "metadata": {
        "colab": {
          "base_uri": "https://localhost:8080/"
        },
        "id": "4WtRZlSFB2Zx",
        "outputId": "73ee41e3-f8d1-4e99-a867-d28679713606"
      },
      "execution_count": null,
      "outputs": [
        {
          "output_type": "execute_result",
          "data": {
            "text/plain": [
              "Mateo        9.1\n",
              "Javier       NaN\n",
              "Micaela      NaN\n",
              "Pedro        8.7\n",
              "Pablo        9.9\n",
              "Penelope    10.0\n",
              "Juan         5.7\n",
              "dtype: float64"
            ]
          },
          "metadata": {},
          "execution_count": 14
        }
      ]
    },
    {
      "cell_type": "markdown",
      "source": [
        "CAMBIAR VALORES"
      ],
      "metadata": {
        "id": "3h3sU6V0Ex3k"
      }
    },
    {
      "cell_type": "code",
      "source": [
        "notas_arregladas[0]=12 #que pasa si tuve un errror\n",
        "\n",
        "notas_arregladas"
      ],
      "metadata": {
        "colab": {
          "base_uri": "https://localhost:8080/"
        },
        "id": "xl1U-Qg2Meka",
        "outputId": "73bdf298-c784-4dd0-8073-a2be6742a86a"
      },
      "execution_count": null,
      "outputs": [
        {
          "output_type": "execute_result",
          "data": {
            "text/plain": [
              "Mateo       12.0\n",
              "Javier       NaN\n",
              "Micaela      NaN\n",
              "Pedro        8.7\n",
              "Pablo        9.9\n",
              "Penelope    10.0\n",
              "Juan         5.7\n",
              "dtype: float64"
            ]
          },
          "metadata": {},
          "execution_count": 18
        }
      ]
    },
    {
      "cell_type": "markdown",
      "source": [
        "NO INCLUYO INDEX"
      ],
      "metadata": {
        "id": "Uw7eTayfM11p"
      }
    },
    {
      "cell_type": "code",
      "source": [
        "notas2=pd.Series([5.7,8.6,7.6,8.7,9.9,10,9.1])\n",
        "\n",
        "notas2"
      ],
      "metadata": {
        "colab": {
          "base_uri": "https://localhost:8080/"
        },
        "id": "lNr1mMh1NMZX",
        "outputId": "2e0963f8-c71f-4852-9eb9-1af2d6694670"
      },
      "execution_count": null,
      "outputs": [
        {
          "output_type": "execute_result",
          "data": {
            "text/plain": [
              "0     5.7\n",
              "1     8.6\n",
              "2     7.6\n",
              "3     8.7\n",
              "4     9.9\n",
              "5    10.0\n",
              "6     9.1\n",
              "dtype: float64"
            ]
          },
          "metadata": {},
          "execution_count": 19
        }
      ]
    },
    {
      "cell_type": "markdown",
      "source": [
        "LIST COMPRENHENSION"
      ],
      "metadata": {
        "id": "CfTVr1S-NeWv"
      }
    },
    {
      "cell_type": "code",
      "source": [
        "nota3=pd.Series([\"x cosa\" + str(i) for i in range(0,10) if  i%2 ==0]) #list comprehension\n",
        "\n",
        "#1- valor a agregar a la lista\n",
        "#2- Un ciclo un for\n",
        "\n",
        "nota3"
      ],
      "metadata": {
        "colab": {
          "base_uri": "https://localhost:8080/"
        },
        "id": "EnfE9XLrN-cY",
        "outputId": "e533e5ff-7bb8-4ccc-cf65-381468b22ca0"
      },
      "execution_count": null,
      "outputs": [
        {
          "output_type": "execute_result",
          "data": {
            "text/plain": [
              "0    x cosa0\n",
              "1    x cosa2\n",
              "2    x cosa4\n",
              "3    x cosa6\n",
              "4    x cosa8\n",
              "dtype: object"
            ]
          },
          "metadata": {},
          "execution_count": 26
        }
      ]
    },
    {
      "cell_type": "markdown",
      "source": [
        "LLAMAR UN VALOR"
      ],
      "metadata": {
        "id": "S5UTcajvQZkU"
      }
    },
    {
      "cell_type": "code",
      "source": [
        "notas[\"Mateo\"]"
      ],
      "metadata": {
        "colab": {
          "base_uri": "https://localhost:8080/"
        },
        "id": "bCEoMfa2Qi2q",
        "outputId": "982a4cff-9cbd-4c54-b311-1c85023d0d07"
      },
      "execution_count": null,
      "outputs": [
        {
          "output_type": "execute_result",
          "data": {
            "text/plain": [
              "9.1"
            ]
          },
          "metadata": {},
          "execution_count": 30
        }
      ]
    },
    {
      "cell_type": "markdown",
      "source": [],
      "metadata": {
        "id": "HRZmmnc7r9MT"
      }
    },
    {
      "cell_type": "markdown",
      "source": [
        "# DATAFRAMES"
      ],
      "metadata": {
        "id": "NDRih5LHE2s0"
      }
    },
    {
      "cell_type": "code",
      "source": [
        "import pandas as pd #importopandas"
      ],
      "metadata": {
        "id": "46j04Nr2RS7P"
      },
      "execution_count": null,
      "outputs": []
    },
    {
      "cell_type": "markdown",
      "source": [
        "CREAR DATAFRAME"
      ],
      "metadata": {
        "id": "xq3Q0r_AY3Rk"
      }
    },
    {
      "cell_type": "code",
      "source": [
        "modelos=['A4 3.0 Quattro 4dr manual', 'A4 3.0 Quattro 4dr auto', 'A6 3.0 4dr', 'A6 3.0 Quattro 4dr', 'A4 3.0 convertible 2dr'] #este sera el indice\n",
        "\n",
        "peso= [3350,1203,1230,1231,1232] #columna1\n",
        "precio=[322350,120223,1232220,12321,12232] #columna2\n",
        "ponderacion=[322350,120223,1232220,12321,12232] #columna2\n",
        "\n",
        "df=pd.DataFrame({\"Peso\":peso,\"Precios\":precio}, index=modelos) #con index\n",
        "df2=pd.DataFrame({\"Peso\":peso,\"Precios\":precio}) #sin index\n",
        "df3=pd.DataFrame(precio) #sin nombre de columna\n",
        "\n",
        "df #con index\n",
        "df2 # sin index\n",
        "df3 #Sin valores\n"
      ],
      "metadata": {
        "colab": {
          "base_uri": "https://localhost:8080/",
          "height": 206
        },
        "id": "4GM5KXukRWEZ",
        "outputId": "5d424653-aeca-4937-c876-b28c472eb554"
      },
      "execution_count": null,
      "outputs": [
        {
          "output_type": "execute_result",
          "data": {
            "text/plain": [
              "         0\n",
              "0   322350\n",
              "1   120223\n",
              "2  1232220\n",
              "3    12321\n",
              "4    12232"
            ],
            "text/html": [
              "\n",
              "  <div id=\"df-29c962af-2c5c-47de-9726-46159d9a9393\">\n",
              "    <div class=\"colab-df-container\">\n",
              "      <div>\n",
              "<style scoped>\n",
              "    .dataframe tbody tr th:only-of-type {\n",
              "        vertical-align: middle;\n",
              "    }\n",
              "\n",
              "    .dataframe tbody tr th {\n",
              "        vertical-align: top;\n",
              "    }\n",
              "\n",
              "    .dataframe thead th {\n",
              "        text-align: right;\n",
              "    }\n",
              "</style>\n",
              "<table border=\"1\" class=\"dataframe\">\n",
              "  <thead>\n",
              "    <tr style=\"text-align: right;\">\n",
              "      <th></th>\n",
              "      <th>0</th>\n",
              "    </tr>\n",
              "  </thead>\n",
              "  <tbody>\n",
              "    <tr>\n",
              "      <th>0</th>\n",
              "      <td>322350</td>\n",
              "    </tr>\n",
              "    <tr>\n",
              "      <th>1</th>\n",
              "      <td>120223</td>\n",
              "    </tr>\n",
              "    <tr>\n",
              "      <th>2</th>\n",
              "      <td>1232220</td>\n",
              "    </tr>\n",
              "    <tr>\n",
              "      <th>3</th>\n",
              "      <td>12321</td>\n",
              "    </tr>\n",
              "    <tr>\n",
              "      <th>4</th>\n",
              "      <td>12232</td>\n",
              "    </tr>\n",
              "  </tbody>\n",
              "</table>\n",
              "</div>\n",
              "      <button class=\"colab-df-convert\" onclick=\"convertToInteractive('df-29c962af-2c5c-47de-9726-46159d9a9393')\"\n",
              "              title=\"Convert this dataframe to an interactive table.\"\n",
              "              style=\"display:none;\">\n",
              "        \n",
              "  <svg xmlns=\"http://www.w3.org/2000/svg\" height=\"24px\"viewBox=\"0 0 24 24\"\n",
              "       width=\"24px\">\n",
              "    <path d=\"M0 0h24v24H0V0z\" fill=\"none\"/>\n",
              "    <path d=\"M18.56 5.44l.94 2.06.94-2.06 2.06-.94-2.06-.94-.94-2.06-.94 2.06-2.06.94zm-11 1L8.5 8.5l.94-2.06 2.06-.94-2.06-.94L8.5 2.5l-.94 2.06-2.06.94zm10 10l.94 2.06.94-2.06 2.06-.94-2.06-.94-.94-2.06-.94 2.06-2.06.94z\"/><path d=\"M17.41 7.96l-1.37-1.37c-.4-.4-.92-.59-1.43-.59-.52 0-1.04.2-1.43.59L10.3 9.45l-7.72 7.72c-.78.78-.78 2.05 0 2.83L4 21.41c.39.39.9.59 1.41.59.51 0 1.02-.2 1.41-.59l7.78-7.78 2.81-2.81c.8-.78.8-2.07 0-2.86zM5.41 20L4 18.59l7.72-7.72 1.47 1.35L5.41 20z\"/>\n",
              "  </svg>\n",
              "      </button>\n",
              "      \n",
              "  <style>\n",
              "    .colab-df-container {\n",
              "      display:flex;\n",
              "      flex-wrap:wrap;\n",
              "      gap: 12px;\n",
              "    }\n",
              "\n",
              "    .colab-df-convert {\n",
              "      background-color: #E8F0FE;\n",
              "      border: none;\n",
              "      border-radius: 50%;\n",
              "      cursor: pointer;\n",
              "      display: none;\n",
              "      fill: #1967D2;\n",
              "      height: 32px;\n",
              "      padding: 0 0 0 0;\n",
              "      width: 32px;\n",
              "    }\n",
              "\n",
              "    .colab-df-convert:hover {\n",
              "      background-color: #E2EBFA;\n",
              "      box-shadow: 0px 1px 2px rgba(60, 64, 67, 0.3), 0px 1px 3px 1px rgba(60, 64, 67, 0.15);\n",
              "      fill: #174EA6;\n",
              "    }\n",
              "\n",
              "    [theme=dark] .colab-df-convert {\n",
              "      background-color: #3B4455;\n",
              "      fill: #D2E3FC;\n",
              "    }\n",
              "\n",
              "    [theme=dark] .colab-df-convert:hover {\n",
              "      background-color: #434B5C;\n",
              "      box-shadow: 0px 1px 3px 1px rgba(0, 0, 0, 0.15);\n",
              "      filter: drop-shadow(0px 1px 2px rgba(0, 0, 0, 0.3));\n",
              "      fill: #FFFFFF;\n",
              "    }\n",
              "  </style>\n",
              "\n",
              "      <script>\n",
              "        const buttonEl =\n",
              "          document.querySelector('#df-29c962af-2c5c-47de-9726-46159d9a9393 button.colab-df-convert');\n",
              "        buttonEl.style.display =\n",
              "          google.colab.kernel.accessAllowed ? 'block' : 'none';\n",
              "\n",
              "        async function convertToInteractive(key) {\n",
              "          const element = document.querySelector('#df-29c962af-2c5c-47de-9726-46159d9a9393');\n",
              "          const dataTable =\n",
              "            await google.colab.kernel.invokeFunction('convertToInteractive',\n",
              "                                                     [key], {});\n",
              "          if (!dataTable) return;\n",
              "\n",
              "          const docLinkHtml = 'Like what you see? Visit the ' +\n",
              "            '<a target=\"_blank\" href=https://colab.research.google.com/notebooks/data_table.ipynb>data table notebook</a>'\n",
              "            + ' to learn more about interactive tables.';\n",
              "          element.innerHTML = '';\n",
              "          dataTable['output_type'] = 'display_data';\n",
              "          await google.colab.output.renderOutput(dataTable, element);\n",
              "          const docLink = document.createElement('div');\n",
              "          docLink.innerHTML = docLinkHtml;\n",
              "          element.appendChild(docLink);\n",
              "        }\n",
              "      </script>\n",
              "    </div>\n",
              "  </div>\n",
              "  "
            ]
          },
          "metadata": {},
          "execution_count": 46
        }
      ]
    },
    {
      "cell_type": "markdown",
      "source": [
        "CREAR UN DATAFRAME"
      ],
      "metadata": {
        "id": "oPZfG9fIX0Fy"
      }
    },
    {
      "cell_type": "markdown",
      "source": [
        "# IMPORTAR ARCHIVOS"
      ],
      "metadata": {
        "id": "HmGIy_gKr_1W"
      }
    },
    {
      "cell_type": "code",
      "source": [
        "import pandas as pd"
      ],
      "metadata": {
        "id": "HynL1WiqsICV"
      },
      "execution_count": null,
      "outputs": []
    },
    {
      "cell_type": "markdown",
      "source": [
        "IMPORTAR ARCHIVOS DESDE DRIVE"
      ],
      "metadata": {
        "id": "cCERXf_10f9j"
      }
    },
    {
      "cell_type": "code",
      "source": [
        "from google.colab import drive  #importo unos paquetes que necesitamos\n",
        "drive.mount('/content/gdrive') #aca conecto con google drive-- Esta linea no cambia nunca.\n",
        "\n",
        "#el primer parametro que le enviamos a read_csv es el path, osea donde esta ubicado mi archivo\n",
        "#la parte inicial /content/gdrive/MyDrive/ nunca cambia (solo se le agrega la carpeta y el nombre del archivo)\n",
        "\n",
        "df= pd.read_csv('/content/gdrive/MyDrive/Colab Notebooks/CLASES CODER/3-Pandas/puntos_digitales.csv',sep=',') #con sep=',' le estamos diciendo que los datos estan separados por comas(,)\n",
        "\n",
        "df"
      ],
      "metadata": {
        "id": "LppFjr04sP2-",
        "colab": {
          "base_uri": "https://localhost:8080/",
          "height": 1000
        },
        "outputId": "035e4b94-695d-4760-a8bc-7ae2e81641fe"
      },
      "execution_count": null,
      "outputs": [
        {
          "output_type": "stream",
          "name": "stdout",
          "text": [
            "Drive already mounted at /content/gdrive; to attempt to forcibly remount, call drive.mount(\"/content/gdrive\", force_remount=True).\n"
          ]
        },
        {
          "output_type": "execute_result",
          "data": {
            "text/plain": [
              "     id_pd                      nombre_pd                           direccion  \\\n",
              "0       40                      Berisso I  33 S/N esquina 169 (Barrio Obrero)   \n",
              "1       41                       Cañuelas                       Mozotegui 807   \n",
              "2       42            Carmen de Patagones              Calle Ramón Ocampo 665   \n",
              "3       43                  Morón I (Sur)                       Baradero 1340   \n",
              "4       44                      Chivilcoy                Miguel Calderon 1271   \n",
              "..     ...                            ...                                 ...   \n",
              "653   1106                      Esquel II                    Pasaje Mara 1751   \n",
              "654   1110      Alto Río Senguer / Chubut                       Sarmiento 100   \n",
              "655   1114                      Ezeiza II                          Zapala 401   \n",
              "656   1118  San Antonio Oeste / Río Negro                     Peatonal Viedma   \n",
              "657   1122                   Delfín Gallo   Av. Nuestra Señora del Carmen S/N   \n",
              "\n",
              "                       nombre_institucional id_provincia  id_departamento  \\\n",
              "0                                       CIC         AR-B             1208   \n",
              "1                        Edificio Municipal         AR-B             1213   \n",
              "2                        Edificio Municipal         AR-B             1286   \n",
              "3                        Edificio Municipal         AR-B             1281   \n",
              "4                                       CIC         AR-B             1221   \n",
              "..                                      ...          ...              ...   \n",
              "653         Ex sede vecinal Barrio Estación         AR-U             1371   \n",
              "654               Alto Río Senguer / Chubut         AR-U             1367   \n",
              "655  Casa De La Cultura Municipal de Ezeiza         AR-B             1233   \n",
              "656           San Antonio Oeste / Río Negro         AR-R             1578   \n",
              "657                      Edificio Municipal         AR-T             1646   \n",
              "\n",
              "     id_localidad  cod_bahra_localidad id_municipio     provincia  \\\n",
              "0             323           6098010004       BUE014  Buenos Aires   \n",
              "1             431           6134030000       BUE018  Buenos Aires   \n",
              "2            1649           6602030000       BUE091  Buenos Aires   \n",
              "3            1497           6568010004       BUE086  Buenos Aires   \n",
              "4             697           6224010000       BUE026  Buenos Aires   \n",
              "..            ...                  ...          ...           ...   \n",
              "653          5765          26035030000       CHU018        Chubut   \n",
              "654          5821          26084030000       CHU003        Chubut   \n",
              "655           778           6270010005       BUE039  Buenos Aires   \n",
              "656          9241          62077010000       RNO032     Río Negro   \n",
              "657         13097          90014060002       TUC023       Tucumán   \n",
              "\n",
              "    departamento             localidad          municipio  \\\n",
              "0        Berisso               Berisso            Berisso   \n",
              "1       Cañuelas              Cañuelas           Cañuelas   \n",
              "2      Patagones   Carmen de Patagones          Patagones   \n",
              "3          Moron                 Moron              Morón   \n",
              "4      Chivilcoy             Chivilcoy          Chivilcoy   \n",
              "..           ...                   ...                ...   \n",
              "653    Futaleufu                Esquel             Esquel   \n",
              "654  Rio Senguer      Alto Rio Senguer   Alto Río Senguer   \n",
              "655       Ezeiza              La Union             Ezeiza   \n",
              "656  San Antonio            Las Grutas  San Antonio Oeste   \n",
              "657    Cruz Alta  Ex Ingenio Esperanza       Delfín Gallo   \n",
              "\n",
              "                   mail_institucional    latitud   longitud  \\\n",
              "0         berisso@puntodigital.gob.ar -34.881902 -57.857780   \n",
              "1        canuelas@puntodigital.gob.ar -35.049960 -58.762520   \n",
              "2    cdepatagones@puntodigital.gob.ar -40.785067 -62.993563   \n",
              "3        moronsur@puntodigital.gob.ar -34.689553 -58.636381   \n",
              "4       chivilcoy@puntodigital.gob.ar -34.916846 -60.001681   \n",
              "..                                ...        ...        ...   \n",
              "653                               NaN -42.900744 -71.320829   \n",
              "654                               NaN -45.043478 -70.824520   \n",
              "655                               NaN -36.309810 -57.664870   \n",
              "656                               NaN -40.811309 -65.088561   \n",
              "657                               NaN -26.844744 -65.092463   \n",
              "\n",
              "                                              horarios  \\\n",
              "0    Lunes 08:00 a 17:00 , Martes 08:00 a 17:00 , M...   \n",
              "1    Lunes 08:00 a 18:00 , Martes 08:00 a 18:00 , M...   \n",
              "2    Lunes 07:00 a 18:00 , Martes 07:00 a 18:00 , M...   \n",
              "3    Lunes 08:00 a 16:00 , Martes 08:00 a 16:00 , M...   \n",
              "4    Lunes 10:00 a 16:00 , Martes 10:00 a 16:00 , M...   \n",
              "..                                                 ...   \n",
              "653                                                NaN   \n",
              "654                                                NaN   \n",
              "655                                                NaN   \n",
              "656                                                NaN   \n",
              "657                                                NaN   \n",
              "\n",
              "                                         link_facebook                 estado  \n",
              "0    https://www.facebook.com/nac.berisso/?notif_t=...                 Activo  \n",
              "1    https://www.facebook.com/Punto-Digital-Cañuela...                 Activo  \n",
              "2                                                  NaN                 Activo  \n",
              "3    https://www.facebook.com/PuntoDigitalMoronSur/...  Temporalmente cerrado  \n",
              "4                                                  NaN  Temporalmente cerrado  \n",
              "..                                                 ...                    ...  \n",
              "653                                                NaN           Próximamente  \n",
              "654                                                NaN           Próximamente  \n",
              "655                                                NaN           Próximamente  \n",
              "656                                                NaN           Próximamente  \n",
              "657                                                NaN           Próximamente  \n",
              "\n",
              "[658 rows x 19 columns]"
            ],
            "text/html": [
              "\n",
              "  <div id=\"df-9745fb2e-c154-4a13-beed-6cf3586783e9\">\n",
              "    <div class=\"colab-df-container\">\n",
              "      <div>\n",
              "<style scoped>\n",
              "    .dataframe tbody tr th:only-of-type {\n",
              "        vertical-align: middle;\n",
              "    }\n",
              "\n",
              "    .dataframe tbody tr th {\n",
              "        vertical-align: top;\n",
              "    }\n",
              "\n",
              "    .dataframe thead th {\n",
              "        text-align: right;\n",
              "    }\n",
              "</style>\n",
              "<table border=\"1\" class=\"dataframe\">\n",
              "  <thead>\n",
              "    <tr style=\"text-align: right;\">\n",
              "      <th></th>\n",
              "      <th>id_pd</th>\n",
              "      <th>nombre_pd</th>\n",
              "      <th>direccion</th>\n",
              "      <th>nombre_institucional</th>\n",
              "      <th>id_provincia</th>\n",
              "      <th>id_departamento</th>\n",
              "      <th>id_localidad</th>\n",
              "      <th>cod_bahra_localidad</th>\n",
              "      <th>id_municipio</th>\n",
              "      <th>provincia</th>\n",
              "      <th>departamento</th>\n",
              "      <th>localidad</th>\n",
              "      <th>municipio</th>\n",
              "      <th>mail_institucional</th>\n",
              "      <th>latitud</th>\n",
              "      <th>longitud</th>\n",
              "      <th>horarios</th>\n",
              "      <th>link_facebook</th>\n",
              "      <th>estado</th>\n",
              "    </tr>\n",
              "  </thead>\n",
              "  <tbody>\n",
              "    <tr>\n",
              "      <th>0</th>\n",
              "      <td>40</td>\n",
              "      <td>Berisso I</td>\n",
              "      <td>33 S/N esquina 169 (Barrio Obrero)</td>\n",
              "      <td>CIC</td>\n",
              "      <td>AR-B</td>\n",
              "      <td>1208</td>\n",
              "      <td>323</td>\n",
              "      <td>6098010004</td>\n",
              "      <td>BUE014</td>\n",
              "      <td>Buenos Aires</td>\n",
              "      <td>Berisso</td>\n",
              "      <td>Berisso</td>\n",
              "      <td>Berisso</td>\n",
              "      <td>berisso@puntodigital.gob.ar</td>\n",
              "      <td>-34.881902</td>\n",
              "      <td>-57.857780</td>\n",
              "      <td>Lunes 08:00 a 17:00 , Martes 08:00 a 17:00 , M...</td>\n",
              "      <td>https://www.facebook.com/nac.berisso/?notif_t=...</td>\n",
              "      <td>Activo</td>\n",
              "    </tr>\n",
              "    <tr>\n",
              "      <th>1</th>\n",
              "      <td>41</td>\n",
              "      <td>Cañuelas</td>\n",
              "      <td>Mozotegui 807</td>\n",
              "      <td>Edificio Municipal</td>\n",
              "      <td>AR-B</td>\n",
              "      <td>1213</td>\n",
              "      <td>431</td>\n",
              "      <td>6134030000</td>\n",
              "      <td>BUE018</td>\n",
              "      <td>Buenos Aires</td>\n",
              "      <td>Cañuelas</td>\n",
              "      <td>Cañuelas</td>\n",
              "      <td>Cañuelas</td>\n",
              "      <td>canuelas@puntodigital.gob.ar</td>\n",
              "      <td>-35.049960</td>\n",
              "      <td>-58.762520</td>\n",
              "      <td>Lunes 08:00 a 18:00 , Martes 08:00 a 18:00 , M...</td>\n",
              "      <td>https://www.facebook.com/Punto-Digital-Cañuela...</td>\n",
              "      <td>Activo</td>\n",
              "    </tr>\n",
              "    <tr>\n",
              "      <th>2</th>\n",
              "      <td>42</td>\n",
              "      <td>Carmen de Patagones</td>\n",
              "      <td>Calle Ramón Ocampo 665</td>\n",
              "      <td>Edificio Municipal</td>\n",
              "      <td>AR-B</td>\n",
              "      <td>1286</td>\n",
              "      <td>1649</td>\n",
              "      <td>6602030000</td>\n",
              "      <td>BUE091</td>\n",
              "      <td>Buenos Aires</td>\n",
              "      <td>Patagones</td>\n",
              "      <td>Carmen de Patagones</td>\n",
              "      <td>Patagones</td>\n",
              "      <td>cdepatagones@puntodigital.gob.ar</td>\n",
              "      <td>-40.785067</td>\n",
              "      <td>-62.993563</td>\n",
              "      <td>Lunes 07:00 a 18:00 , Martes 07:00 a 18:00 , M...</td>\n",
              "      <td>NaN</td>\n",
              "      <td>Activo</td>\n",
              "    </tr>\n",
              "    <tr>\n",
              "      <th>3</th>\n",
              "      <td>43</td>\n",
              "      <td>Morón I (Sur)</td>\n",
              "      <td>Baradero 1340</td>\n",
              "      <td>Edificio Municipal</td>\n",
              "      <td>AR-B</td>\n",
              "      <td>1281</td>\n",
              "      <td>1497</td>\n",
              "      <td>6568010004</td>\n",
              "      <td>BUE086</td>\n",
              "      <td>Buenos Aires</td>\n",
              "      <td>Moron</td>\n",
              "      <td>Moron</td>\n",
              "      <td>Morón</td>\n",
              "      <td>moronsur@puntodigital.gob.ar</td>\n",
              "      <td>-34.689553</td>\n",
              "      <td>-58.636381</td>\n",
              "      <td>Lunes 08:00 a 16:00 , Martes 08:00 a 16:00 , M...</td>\n",
              "      <td>https://www.facebook.com/PuntoDigitalMoronSur/...</td>\n",
              "      <td>Temporalmente cerrado</td>\n",
              "    </tr>\n",
              "    <tr>\n",
              "      <th>4</th>\n",
              "      <td>44</td>\n",
              "      <td>Chivilcoy</td>\n",
              "      <td>Miguel Calderon 1271</td>\n",
              "      <td>CIC</td>\n",
              "      <td>AR-B</td>\n",
              "      <td>1221</td>\n",
              "      <td>697</td>\n",
              "      <td>6224010000</td>\n",
              "      <td>BUE026</td>\n",
              "      <td>Buenos Aires</td>\n",
              "      <td>Chivilcoy</td>\n",
              "      <td>Chivilcoy</td>\n",
              "      <td>Chivilcoy</td>\n",
              "      <td>chivilcoy@puntodigital.gob.ar</td>\n",
              "      <td>-34.916846</td>\n",
              "      <td>-60.001681</td>\n",
              "      <td>Lunes 10:00 a 16:00 , Martes 10:00 a 16:00 , M...</td>\n",
              "      <td>NaN</td>\n",
              "      <td>Temporalmente cerrado</td>\n",
              "    </tr>\n",
              "    <tr>\n",
              "      <th>...</th>\n",
              "      <td>...</td>\n",
              "      <td>...</td>\n",
              "      <td>...</td>\n",
              "      <td>...</td>\n",
              "      <td>...</td>\n",
              "      <td>...</td>\n",
              "      <td>...</td>\n",
              "      <td>...</td>\n",
              "      <td>...</td>\n",
              "      <td>...</td>\n",
              "      <td>...</td>\n",
              "      <td>...</td>\n",
              "      <td>...</td>\n",
              "      <td>...</td>\n",
              "      <td>...</td>\n",
              "      <td>...</td>\n",
              "      <td>...</td>\n",
              "      <td>...</td>\n",
              "      <td>...</td>\n",
              "    </tr>\n",
              "    <tr>\n",
              "      <th>653</th>\n",
              "      <td>1106</td>\n",
              "      <td>Esquel II</td>\n",
              "      <td>Pasaje Mara 1751</td>\n",
              "      <td>Ex sede vecinal Barrio Estación</td>\n",
              "      <td>AR-U</td>\n",
              "      <td>1371</td>\n",
              "      <td>5765</td>\n",
              "      <td>26035030000</td>\n",
              "      <td>CHU018</td>\n",
              "      <td>Chubut</td>\n",
              "      <td>Futaleufu</td>\n",
              "      <td>Esquel</td>\n",
              "      <td>Esquel</td>\n",
              "      <td>NaN</td>\n",
              "      <td>-42.900744</td>\n",
              "      <td>-71.320829</td>\n",
              "      <td>NaN</td>\n",
              "      <td>NaN</td>\n",
              "      <td>Próximamente</td>\n",
              "    </tr>\n",
              "    <tr>\n",
              "      <th>654</th>\n",
              "      <td>1110</td>\n",
              "      <td>Alto Río Senguer / Chubut</td>\n",
              "      <td>Sarmiento 100</td>\n",
              "      <td>Alto Río Senguer / Chubut</td>\n",
              "      <td>AR-U</td>\n",
              "      <td>1367</td>\n",
              "      <td>5821</td>\n",
              "      <td>26084030000</td>\n",
              "      <td>CHU003</td>\n",
              "      <td>Chubut</td>\n",
              "      <td>Rio Senguer</td>\n",
              "      <td>Alto Rio Senguer</td>\n",
              "      <td>Alto Río Senguer</td>\n",
              "      <td>NaN</td>\n",
              "      <td>-45.043478</td>\n",
              "      <td>-70.824520</td>\n",
              "      <td>NaN</td>\n",
              "      <td>NaN</td>\n",
              "      <td>Próximamente</td>\n",
              "    </tr>\n",
              "    <tr>\n",
              "      <th>655</th>\n",
              "      <td>1114</td>\n",
              "      <td>Ezeiza II</td>\n",
              "      <td>Zapala 401</td>\n",
              "      <td>Casa De La Cultura Municipal de Ezeiza</td>\n",
              "      <td>AR-B</td>\n",
              "      <td>1233</td>\n",
              "      <td>778</td>\n",
              "      <td>6270010005</td>\n",
              "      <td>BUE039</td>\n",
              "      <td>Buenos Aires</td>\n",
              "      <td>Ezeiza</td>\n",
              "      <td>La Union</td>\n",
              "      <td>Ezeiza</td>\n",
              "      <td>NaN</td>\n",
              "      <td>-36.309810</td>\n",
              "      <td>-57.664870</td>\n",
              "      <td>NaN</td>\n",
              "      <td>NaN</td>\n",
              "      <td>Próximamente</td>\n",
              "    </tr>\n",
              "    <tr>\n",
              "      <th>656</th>\n",
              "      <td>1118</td>\n",
              "      <td>San Antonio Oeste / Río Negro</td>\n",
              "      <td>Peatonal Viedma</td>\n",
              "      <td>San Antonio Oeste / Río Negro</td>\n",
              "      <td>AR-R</td>\n",
              "      <td>1578</td>\n",
              "      <td>9241</td>\n",
              "      <td>62077010000</td>\n",
              "      <td>RNO032</td>\n",
              "      <td>Río Negro</td>\n",
              "      <td>San Antonio</td>\n",
              "      <td>Las Grutas</td>\n",
              "      <td>San Antonio Oeste</td>\n",
              "      <td>NaN</td>\n",
              "      <td>-40.811309</td>\n",
              "      <td>-65.088561</td>\n",
              "      <td>NaN</td>\n",
              "      <td>NaN</td>\n",
              "      <td>Próximamente</td>\n",
              "    </tr>\n",
              "    <tr>\n",
              "      <th>657</th>\n",
              "      <td>1122</td>\n",
              "      <td>Delfín Gallo</td>\n",
              "      <td>Av. Nuestra Señora del Carmen S/N</td>\n",
              "      <td>Edificio Municipal</td>\n",
              "      <td>AR-T</td>\n",
              "      <td>1646</td>\n",
              "      <td>13097</td>\n",
              "      <td>90014060002</td>\n",
              "      <td>TUC023</td>\n",
              "      <td>Tucumán</td>\n",
              "      <td>Cruz Alta</td>\n",
              "      <td>Ex Ingenio Esperanza</td>\n",
              "      <td>Delfín Gallo</td>\n",
              "      <td>NaN</td>\n",
              "      <td>-26.844744</td>\n",
              "      <td>-65.092463</td>\n",
              "      <td>NaN</td>\n",
              "      <td>NaN</td>\n",
              "      <td>Próximamente</td>\n",
              "    </tr>\n",
              "  </tbody>\n",
              "</table>\n",
              "<p>658 rows × 19 columns</p>\n",
              "</div>\n",
              "      <button class=\"colab-df-convert\" onclick=\"convertToInteractive('df-9745fb2e-c154-4a13-beed-6cf3586783e9')\"\n",
              "              title=\"Convert this dataframe to an interactive table.\"\n",
              "              style=\"display:none;\">\n",
              "        \n",
              "  <svg xmlns=\"http://www.w3.org/2000/svg\" height=\"24px\"viewBox=\"0 0 24 24\"\n",
              "       width=\"24px\">\n",
              "    <path d=\"M0 0h24v24H0V0z\" fill=\"none\"/>\n",
              "    <path d=\"M18.56 5.44l.94 2.06.94-2.06 2.06-.94-2.06-.94-.94-2.06-.94 2.06-2.06.94zm-11 1L8.5 8.5l.94-2.06 2.06-.94-2.06-.94L8.5 2.5l-.94 2.06-2.06.94zm10 10l.94 2.06.94-2.06 2.06-.94-2.06-.94-.94-2.06-.94 2.06-2.06.94z\"/><path d=\"M17.41 7.96l-1.37-1.37c-.4-.4-.92-.59-1.43-.59-.52 0-1.04.2-1.43.59L10.3 9.45l-7.72 7.72c-.78.78-.78 2.05 0 2.83L4 21.41c.39.39.9.59 1.41.59.51 0 1.02-.2 1.41-.59l7.78-7.78 2.81-2.81c.8-.78.8-2.07 0-2.86zM5.41 20L4 18.59l7.72-7.72 1.47 1.35L5.41 20z\"/>\n",
              "  </svg>\n",
              "      </button>\n",
              "      \n",
              "  <style>\n",
              "    .colab-df-container {\n",
              "      display:flex;\n",
              "      flex-wrap:wrap;\n",
              "      gap: 12px;\n",
              "    }\n",
              "\n",
              "    .colab-df-convert {\n",
              "      background-color: #E8F0FE;\n",
              "      border: none;\n",
              "      border-radius: 50%;\n",
              "      cursor: pointer;\n",
              "      display: none;\n",
              "      fill: #1967D2;\n",
              "      height: 32px;\n",
              "      padding: 0 0 0 0;\n",
              "      width: 32px;\n",
              "    }\n",
              "\n",
              "    .colab-df-convert:hover {\n",
              "      background-color: #E2EBFA;\n",
              "      box-shadow: 0px 1px 2px rgba(60, 64, 67, 0.3), 0px 1px 3px 1px rgba(60, 64, 67, 0.15);\n",
              "      fill: #174EA6;\n",
              "    }\n",
              "\n",
              "    [theme=dark] .colab-df-convert {\n",
              "      background-color: #3B4455;\n",
              "      fill: #D2E3FC;\n",
              "    }\n",
              "\n",
              "    [theme=dark] .colab-df-convert:hover {\n",
              "      background-color: #434B5C;\n",
              "      box-shadow: 0px 1px 3px 1px rgba(0, 0, 0, 0.15);\n",
              "      filter: drop-shadow(0px 1px 2px rgba(0, 0, 0, 0.3));\n",
              "      fill: #FFFFFF;\n",
              "    }\n",
              "  </style>\n",
              "\n",
              "      <script>\n",
              "        const buttonEl =\n",
              "          document.querySelector('#df-9745fb2e-c154-4a13-beed-6cf3586783e9 button.colab-df-convert');\n",
              "        buttonEl.style.display =\n",
              "          google.colab.kernel.accessAllowed ? 'block' : 'none';\n",
              "\n",
              "        async function convertToInteractive(key) {\n",
              "          const element = document.querySelector('#df-9745fb2e-c154-4a13-beed-6cf3586783e9');\n",
              "          const dataTable =\n",
              "            await google.colab.kernel.invokeFunction('convertToInteractive',\n",
              "                                                     [key], {});\n",
              "          if (!dataTable) return;\n",
              "\n",
              "          const docLinkHtml = 'Like what you see? Visit the ' +\n",
              "            '<a target=\"_blank\" href=https://colab.research.google.com/notebooks/data_table.ipynb>data table notebook</a>'\n",
              "            + ' to learn more about interactive tables.';\n",
              "          element.innerHTML = '';\n",
              "          dataTable['output_type'] = 'display_data';\n",
              "          await google.colab.output.renderOutput(dataTable, element);\n",
              "          const docLink = document.createElement('div');\n",
              "          docLink.innerHTML = docLinkHtml;\n",
              "          element.appendChild(docLink);\n",
              "        }\n",
              "      </script>\n",
              "    </div>\n",
              "  </div>\n",
              "  "
            ]
          },
          "metadata": {},
          "execution_count": 63
        }
      ]
    },
    {
      "cell_type": "markdown",
      "source": [
        "IMPORTAR ARCHIVOS TXT SEPARADO TABULACIONES"
      ],
      "metadata": {
        "id": "QSySL2Ij5dm3"
      }
    },
    {
      "cell_type": "code",
      "source": [
        "df2=pd.read_csv(\"/content/gdrive/MyDrive/Colab Notebooks/CLASES CODER/3-Pandas/pokemon_data.txt\",sep=\"\\t\")  #\\t separado por tabulacion\n",
        "\n",
        "df2"
      ],
      "metadata": {
        "colab": {
          "base_uri": "https://localhost:8080/",
          "height": 574
        },
        "id": "nRT2NXX2xpNf",
        "outputId": "073cc563-b39b-4b92-8418-be59ac632045"
      },
      "execution_count": null,
      "outputs": [
        {
          "output_type": "execute_result",
          "data": {
            "text/plain": [
              "       #                   Name   Type 1  Type 2  HP  Attack  Defense  \\\n",
              "0      1              Bulbasaur    Grass  Poison  45      49       49   \n",
              "1      2                Ivysaur    Grass  Poison  60      62       63   \n",
              "2      3               Venusaur    Grass  Poison  80      82       83   \n",
              "3      3  VenusaurMega Venusaur    Grass  Poison  80     100      123   \n",
              "4      4             Charmander     Fire     NaN  39      52       43   \n",
              "..   ...                    ...      ...     ...  ..     ...      ...   \n",
              "795  719                Diancie     Rock   Fairy  50     100      150   \n",
              "796  719    DiancieMega Diancie     Rock   Fairy  50     160      110   \n",
              "797  720    HoopaHoopa Confined  Psychic   Ghost  80     110       60   \n",
              "798  720     HoopaHoopa Unbound  Psychic    Dark  80     160       60   \n",
              "799  721              Volcanion     Fire   Water  80     110      120   \n",
              "\n",
              "     Sp. Atk  Sp. Def  Speed  Generation  Legendary  \n",
              "0         65       65     45           1      False  \n",
              "1         80       80     60           1      False  \n",
              "2        100      100     80           1      False  \n",
              "3        122      120     80           1      False  \n",
              "4         60       50     65           1      False  \n",
              "..       ...      ...    ...         ...        ...  \n",
              "795      100      150     50           6       True  \n",
              "796      160      110    110           6       True  \n",
              "797      150      130     70           6       True  \n",
              "798      170      130     80           6       True  \n",
              "799      130       90     70           6       True  \n",
              "\n",
              "[800 rows x 12 columns]"
            ],
            "text/html": [
              "\n",
              "  <div id=\"df-9b03fc71-ca95-48d4-a82e-70b6e3172f5f\">\n",
              "    <div class=\"colab-df-container\">\n",
              "      <div>\n",
              "<style scoped>\n",
              "    .dataframe tbody tr th:only-of-type {\n",
              "        vertical-align: middle;\n",
              "    }\n",
              "\n",
              "    .dataframe tbody tr th {\n",
              "        vertical-align: top;\n",
              "    }\n",
              "\n",
              "    .dataframe thead th {\n",
              "        text-align: right;\n",
              "    }\n",
              "</style>\n",
              "<table border=\"1\" class=\"dataframe\">\n",
              "  <thead>\n",
              "    <tr style=\"text-align: right;\">\n",
              "      <th></th>\n",
              "      <th>#</th>\n",
              "      <th>Name</th>\n",
              "      <th>Type 1</th>\n",
              "      <th>Type 2</th>\n",
              "      <th>HP</th>\n",
              "      <th>Attack</th>\n",
              "      <th>Defense</th>\n",
              "      <th>Sp. Atk</th>\n",
              "      <th>Sp. Def</th>\n",
              "      <th>Speed</th>\n",
              "      <th>Generation</th>\n",
              "      <th>Legendary</th>\n",
              "    </tr>\n",
              "  </thead>\n",
              "  <tbody>\n",
              "    <tr>\n",
              "      <th>0</th>\n",
              "      <td>1</td>\n",
              "      <td>Bulbasaur</td>\n",
              "      <td>Grass</td>\n",
              "      <td>Poison</td>\n",
              "      <td>45</td>\n",
              "      <td>49</td>\n",
              "      <td>49</td>\n",
              "      <td>65</td>\n",
              "      <td>65</td>\n",
              "      <td>45</td>\n",
              "      <td>1</td>\n",
              "      <td>False</td>\n",
              "    </tr>\n",
              "    <tr>\n",
              "      <th>1</th>\n",
              "      <td>2</td>\n",
              "      <td>Ivysaur</td>\n",
              "      <td>Grass</td>\n",
              "      <td>Poison</td>\n",
              "      <td>60</td>\n",
              "      <td>62</td>\n",
              "      <td>63</td>\n",
              "      <td>80</td>\n",
              "      <td>80</td>\n",
              "      <td>60</td>\n",
              "      <td>1</td>\n",
              "      <td>False</td>\n",
              "    </tr>\n",
              "    <tr>\n",
              "      <th>2</th>\n",
              "      <td>3</td>\n",
              "      <td>Venusaur</td>\n",
              "      <td>Grass</td>\n",
              "      <td>Poison</td>\n",
              "      <td>80</td>\n",
              "      <td>82</td>\n",
              "      <td>83</td>\n",
              "      <td>100</td>\n",
              "      <td>100</td>\n",
              "      <td>80</td>\n",
              "      <td>1</td>\n",
              "      <td>False</td>\n",
              "    </tr>\n",
              "    <tr>\n",
              "      <th>3</th>\n",
              "      <td>3</td>\n",
              "      <td>VenusaurMega Venusaur</td>\n",
              "      <td>Grass</td>\n",
              "      <td>Poison</td>\n",
              "      <td>80</td>\n",
              "      <td>100</td>\n",
              "      <td>123</td>\n",
              "      <td>122</td>\n",
              "      <td>120</td>\n",
              "      <td>80</td>\n",
              "      <td>1</td>\n",
              "      <td>False</td>\n",
              "    </tr>\n",
              "    <tr>\n",
              "      <th>4</th>\n",
              "      <td>4</td>\n",
              "      <td>Charmander</td>\n",
              "      <td>Fire</td>\n",
              "      <td>NaN</td>\n",
              "      <td>39</td>\n",
              "      <td>52</td>\n",
              "      <td>43</td>\n",
              "      <td>60</td>\n",
              "      <td>50</td>\n",
              "      <td>65</td>\n",
              "      <td>1</td>\n",
              "      <td>False</td>\n",
              "    </tr>\n",
              "    <tr>\n",
              "      <th>...</th>\n",
              "      <td>...</td>\n",
              "      <td>...</td>\n",
              "      <td>...</td>\n",
              "      <td>...</td>\n",
              "      <td>...</td>\n",
              "      <td>...</td>\n",
              "      <td>...</td>\n",
              "      <td>...</td>\n",
              "      <td>...</td>\n",
              "      <td>...</td>\n",
              "      <td>...</td>\n",
              "      <td>...</td>\n",
              "    </tr>\n",
              "    <tr>\n",
              "      <th>795</th>\n",
              "      <td>719</td>\n",
              "      <td>Diancie</td>\n",
              "      <td>Rock</td>\n",
              "      <td>Fairy</td>\n",
              "      <td>50</td>\n",
              "      <td>100</td>\n",
              "      <td>150</td>\n",
              "      <td>100</td>\n",
              "      <td>150</td>\n",
              "      <td>50</td>\n",
              "      <td>6</td>\n",
              "      <td>True</td>\n",
              "    </tr>\n",
              "    <tr>\n",
              "      <th>796</th>\n",
              "      <td>719</td>\n",
              "      <td>DiancieMega Diancie</td>\n",
              "      <td>Rock</td>\n",
              "      <td>Fairy</td>\n",
              "      <td>50</td>\n",
              "      <td>160</td>\n",
              "      <td>110</td>\n",
              "      <td>160</td>\n",
              "      <td>110</td>\n",
              "      <td>110</td>\n",
              "      <td>6</td>\n",
              "      <td>True</td>\n",
              "    </tr>\n",
              "    <tr>\n",
              "      <th>797</th>\n",
              "      <td>720</td>\n",
              "      <td>HoopaHoopa Confined</td>\n",
              "      <td>Psychic</td>\n",
              "      <td>Ghost</td>\n",
              "      <td>80</td>\n",
              "      <td>110</td>\n",
              "      <td>60</td>\n",
              "      <td>150</td>\n",
              "      <td>130</td>\n",
              "      <td>70</td>\n",
              "      <td>6</td>\n",
              "      <td>True</td>\n",
              "    </tr>\n",
              "    <tr>\n",
              "      <th>798</th>\n",
              "      <td>720</td>\n",
              "      <td>HoopaHoopa Unbound</td>\n",
              "      <td>Psychic</td>\n",
              "      <td>Dark</td>\n",
              "      <td>80</td>\n",
              "      <td>160</td>\n",
              "      <td>60</td>\n",
              "      <td>170</td>\n",
              "      <td>130</td>\n",
              "      <td>80</td>\n",
              "      <td>6</td>\n",
              "      <td>True</td>\n",
              "    </tr>\n",
              "    <tr>\n",
              "      <th>799</th>\n",
              "      <td>721</td>\n",
              "      <td>Volcanion</td>\n",
              "      <td>Fire</td>\n",
              "      <td>Water</td>\n",
              "      <td>80</td>\n",
              "      <td>110</td>\n",
              "      <td>120</td>\n",
              "      <td>130</td>\n",
              "      <td>90</td>\n",
              "      <td>70</td>\n",
              "      <td>6</td>\n",
              "      <td>True</td>\n",
              "    </tr>\n",
              "  </tbody>\n",
              "</table>\n",
              "<p>800 rows × 12 columns</p>\n",
              "</div>\n",
              "      <button class=\"colab-df-convert\" onclick=\"convertToInteractive('df-9b03fc71-ca95-48d4-a82e-70b6e3172f5f')\"\n",
              "              title=\"Convert this dataframe to an interactive table.\"\n",
              "              style=\"display:none;\">\n",
              "        \n",
              "  <svg xmlns=\"http://www.w3.org/2000/svg\" height=\"24px\"viewBox=\"0 0 24 24\"\n",
              "       width=\"24px\">\n",
              "    <path d=\"M0 0h24v24H0V0z\" fill=\"none\"/>\n",
              "    <path d=\"M18.56 5.44l.94 2.06.94-2.06 2.06-.94-2.06-.94-.94-2.06-.94 2.06-2.06.94zm-11 1L8.5 8.5l.94-2.06 2.06-.94-2.06-.94L8.5 2.5l-.94 2.06-2.06.94zm10 10l.94 2.06.94-2.06 2.06-.94-2.06-.94-.94-2.06-.94 2.06-2.06.94z\"/><path d=\"M17.41 7.96l-1.37-1.37c-.4-.4-.92-.59-1.43-.59-.52 0-1.04.2-1.43.59L10.3 9.45l-7.72 7.72c-.78.78-.78 2.05 0 2.83L4 21.41c.39.39.9.59 1.41.59.51 0 1.02-.2 1.41-.59l7.78-7.78 2.81-2.81c.8-.78.8-2.07 0-2.86zM5.41 20L4 18.59l7.72-7.72 1.47 1.35L5.41 20z\"/>\n",
              "  </svg>\n",
              "      </button>\n",
              "      \n",
              "  <style>\n",
              "    .colab-df-container {\n",
              "      display:flex;\n",
              "      flex-wrap:wrap;\n",
              "      gap: 12px;\n",
              "    }\n",
              "\n",
              "    .colab-df-convert {\n",
              "      background-color: #E8F0FE;\n",
              "      border: none;\n",
              "      border-radius: 50%;\n",
              "      cursor: pointer;\n",
              "      display: none;\n",
              "      fill: #1967D2;\n",
              "      height: 32px;\n",
              "      padding: 0 0 0 0;\n",
              "      width: 32px;\n",
              "    }\n",
              "\n",
              "    .colab-df-convert:hover {\n",
              "      background-color: #E2EBFA;\n",
              "      box-shadow: 0px 1px 2px rgba(60, 64, 67, 0.3), 0px 1px 3px 1px rgba(60, 64, 67, 0.15);\n",
              "      fill: #174EA6;\n",
              "    }\n",
              "\n",
              "    [theme=dark] .colab-df-convert {\n",
              "      background-color: #3B4455;\n",
              "      fill: #D2E3FC;\n",
              "    }\n",
              "\n",
              "    [theme=dark] .colab-df-convert:hover {\n",
              "      background-color: #434B5C;\n",
              "      box-shadow: 0px 1px 3px 1px rgba(0, 0, 0, 0.15);\n",
              "      filter: drop-shadow(0px 1px 2px rgba(0, 0, 0, 0.3));\n",
              "      fill: #FFFFFF;\n",
              "    }\n",
              "  </style>\n",
              "\n",
              "      <script>\n",
              "        const buttonEl =\n",
              "          document.querySelector('#df-9b03fc71-ca95-48d4-a82e-70b6e3172f5f button.colab-df-convert');\n",
              "        buttonEl.style.display =\n",
              "          google.colab.kernel.accessAllowed ? 'block' : 'none';\n",
              "\n",
              "        async function convertToInteractive(key) {\n",
              "          const element = document.querySelector('#df-9b03fc71-ca95-48d4-a82e-70b6e3172f5f');\n",
              "          const dataTable =\n",
              "            await google.colab.kernel.invokeFunction('convertToInteractive',\n",
              "                                                     [key], {});\n",
              "          if (!dataTable) return;\n",
              "\n",
              "          const docLinkHtml = 'Like what you see? Visit the ' +\n",
              "            '<a target=\"_blank\" href=https://colab.research.google.com/notebooks/data_table.ipynb>data table notebook</a>'\n",
              "            + ' to learn more about interactive tables.';\n",
              "          element.innerHTML = '';\n",
              "          dataTable['output_type'] = 'display_data';\n",
              "          await google.colab.output.renderOutput(dataTable, element);\n",
              "          const docLink = document.createElement('div');\n",
              "          docLink.innerHTML = docLinkHtml;\n",
              "          element.appendChild(docLink);\n",
              "        }\n",
              "      </script>\n",
              "    </div>\n",
              "  </div>\n",
              "  "
            ]
          },
          "metadata": {},
          "execution_count": 64
        }
      ]
    },
    {
      "cell_type": "markdown",
      "source": [
        "IMPORTA ARCHIVOS XLSX EN PC"
      ],
      "metadata": {
        "id": "kUZHd5ae5cD_"
      }
    },
    {
      "cell_type": "code",
      "source": [
        "df3=pd.read_excel(\"/content/gdrive/MyDrive/Colab Notebooks/CLASES CODER/3-Pandas/defaultoutput2.xlsx\",sheet_name=\"hoja_traer\",index_col=1)\n",
        "\n",
        "# sheet_name=\"hoja_traer\" Aca aclaro que sheet quiero\n",
        "#index_col=1 Aca nombro la columna 1\n",
        "df3"
      ],
      "metadata": {
        "colab": {
          "base_uri": "https://localhost:8080/",
          "height": 536
        },
        "id": "nc1zzu6b7teI",
        "outputId": "60dd7e8d-c305-4153-f775-d8b730c57905"
      },
      "execution_count": null,
      "outputs": [
        {
          "output_type": "execute_result",
          "data": {
            "text/plain": [
              "        Unnamed: 0       ID  Year_Birth   Education Marital_Status   Income  \\\n",
              "index                                                                         \n",
              "0.0            0.0   5524.0      1957.0  Graduation         Single  58138.0   \n",
              "1.0            1.0   2174.0      1954.0  Graduation         Single  46344.0   \n",
              "2.0            2.0   4141.0      1965.0  Graduation       Together  71613.0   \n",
              "3.0            3.0   6182.0      1984.0  Graduation       Together  26646.0   \n",
              "4.0            4.0   5324.0      1981.0         PhD        Married  58293.0   \n",
              "...            ...      ...         ...         ...            ...      ...   \n",
              "2235.0      2235.0  10870.0      1967.0  Graduation        Married  61223.0   \n",
              "2236.0      2236.0   4001.0      1946.0         PhD       Together  64014.0   \n",
              "2237.0      2237.0   7270.0      1981.0  Graduation       Divorced  56981.0   \n",
              "2238.0      2238.0   8235.0      1956.0      Master       Together  69245.0   \n",
              "2239.0      2239.0   9405.0      1954.0         PhD        Married  52869.0   \n",
              "\n",
              "        Kidhome  Teenhome Dt_Customer  Recency  ...  AcceptedCmp5  \\\n",
              "index                                           ...                 \n",
              "0.0         0.0       0.0  04-09-2012     58.0  ...         False   \n",
              "1.0         1.0       1.0  08-03-2014     38.0  ...         False   \n",
              "2.0         0.0       0.0  21-08-2013     26.0  ...         False   \n",
              "3.0         1.0       0.0  10-02-2014     26.0  ...         False   \n",
              "4.0         1.0       0.0  19-01-2014     94.0  ...         False   \n",
              "...         ...       ...         ...      ...  ...           ...   \n",
              "2235.0      0.0       1.0  13-06-2013     46.0  ...         False   \n",
              "2236.0      2.0       1.0  10-06-2014     56.0  ...         False   \n",
              "2237.0      0.0       0.0  25-01-2014     91.0  ...         False   \n",
              "2238.0      0.0       1.0  24-01-2014      8.0  ...         False   \n",
              "2239.0      1.0       1.0  15-10-2012     40.0  ...         False   \n",
              "\n",
              "        AcceptedCmp1  AcceptedCmp2  Complain  Z_CostContact  Z_Revenue  \\\n",
              "index                                                                    \n",
              "0.0            False         False     False            3.0       11.0   \n",
              "1.0            False         False     False            3.0       11.0   \n",
              "2.0            False         False     False            3.0       11.0   \n",
              "3.0            False         False     False            3.0       11.0   \n",
              "4.0            False         False     False            3.0       11.0   \n",
              "...              ...           ...       ...            ...        ...   \n",
              "2235.0         False         False     False            3.0       11.0   \n",
              "2236.0          True         False     False            3.0       11.0   \n",
              "2237.0         False         False     False            3.0       11.0   \n",
              "2238.0         False         False     False            3.0       11.0   \n",
              "2239.0         False         False     False            3.0       11.0   \n",
              "\n",
              "        Response  MostExpensive  Marital_Status_key  Education_key  \n",
              "index                                                               \n",
              "0.0         True          Wines                 0.0            1.0  \n",
              "1.0        False          Wines                 0.0            1.0  \n",
              "2.0        False          Wines                 2.0            1.0  \n",
              "3.0        False   MeatProducts                 2.0            1.0  \n",
              "4.0        False          Wines                 1.0            0.0  \n",
              "...          ...            ...                 ...            ...  \n",
              "2235.0     False          Wines                 1.0            1.0  \n",
              "2236.0     False          Wines                 2.0            0.0  \n",
              "2237.0     False          Wines                 3.0            1.0  \n",
              "2238.0     False          Wines                 2.0            2.0  \n",
              "2239.0      True          Wines                 1.0            0.0  \n",
              "\n",
              "[2240 rows x 33 columns]"
            ],
            "text/html": [
              "\n",
              "  <div id=\"df-803f966d-5113-4e05-9446-0db832e7b3a9\">\n",
              "    <div class=\"colab-df-container\">\n",
              "      <div>\n",
              "<style scoped>\n",
              "    .dataframe tbody tr th:only-of-type {\n",
              "        vertical-align: middle;\n",
              "    }\n",
              "\n",
              "    .dataframe tbody tr th {\n",
              "        vertical-align: top;\n",
              "    }\n",
              "\n",
              "    .dataframe thead th {\n",
              "        text-align: right;\n",
              "    }\n",
              "</style>\n",
              "<table border=\"1\" class=\"dataframe\">\n",
              "  <thead>\n",
              "    <tr style=\"text-align: right;\">\n",
              "      <th></th>\n",
              "      <th>Unnamed: 0</th>\n",
              "      <th>ID</th>\n",
              "      <th>Year_Birth</th>\n",
              "      <th>Education</th>\n",
              "      <th>Marital_Status</th>\n",
              "      <th>Income</th>\n",
              "      <th>Kidhome</th>\n",
              "      <th>Teenhome</th>\n",
              "      <th>Dt_Customer</th>\n",
              "      <th>Recency</th>\n",
              "      <th>...</th>\n",
              "      <th>AcceptedCmp5</th>\n",
              "      <th>AcceptedCmp1</th>\n",
              "      <th>AcceptedCmp2</th>\n",
              "      <th>Complain</th>\n",
              "      <th>Z_CostContact</th>\n",
              "      <th>Z_Revenue</th>\n",
              "      <th>Response</th>\n",
              "      <th>MostExpensive</th>\n",
              "      <th>Marital_Status_key</th>\n",
              "      <th>Education_key</th>\n",
              "    </tr>\n",
              "    <tr>\n",
              "      <th>index</th>\n",
              "      <th></th>\n",
              "      <th></th>\n",
              "      <th></th>\n",
              "      <th></th>\n",
              "      <th></th>\n",
              "      <th></th>\n",
              "      <th></th>\n",
              "      <th></th>\n",
              "      <th></th>\n",
              "      <th></th>\n",
              "      <th></th>\n",
              "      <th></th>\n",
              "      <th></th>\n",
              "      <th></th>\n",
              "      <th></th>\n",
              "      <th></th>\n",
              "      <th></th>\n",
              "      <th></th>\n",
              "      <th></th>\n",
              "      <th></th>\n",
              "      <th></th>\n",
              "    </tr>\n",
              "  </thead>\n",
              "  <tbody>\n",
              "    <tr>\n",
              "      <th>0.0</th>\n",
              "      <td>0.0</td>\n",
              "      <td>5524.0</td>\n",
              "      <td>1957.0</td>\n",
              "      <td>Graduation</td>\n",
              "      <td>Single</td>\n",
              "      <td>58138.0</td>\n",
              "      <td>0.0</td>\n",
              "      <td>0.0</td>\n",
              "      <td>04-09-2012</td>\n",
              "      <td>58.0</td>\n",
              "      <td>...</td>\n",
              "      <td>False</td>\n",
              "      <td>False</td>\n",
              "      <td>False</td>\n",
              "      <td>False</td>\n",
              "      <td>3.0</td>\n",
              "      <td>11.0</td>\n",
              "      <td>True</td>\n",
              "      <td>Wines</td>\n",
              "      <td>0.0</td>\n",
              "      <td>1.0</td>\n",
              "    </tr>\n",
              "    <tr>\n",
              "      <th>1.0</th>\n",
              "      <td>1.0</td>\n",
              "      <td>2174.0</td>\n",
              "      <td>1954.0</td>\n",
              "      <td>Graduation</td>\n",
              "      <td>Single</td>\n",
              "      <td>46344.0</td>\n",
              "      <td>1.0</td>\n",
              "      <td>1.0</td>\n",
              "      <td>08-03-2014</td>\n",
              "      <td>38.0</td>\n",
              "      <td>...</td>\n",
              "      <td>False</td>\n",
              "      <td>False</td>\n",
              "      <td>False</td>\n",
              "      <td>False</td>\n",
              "      <td>3.0</td>\n",
              "      <td>11.0</td>\n",
              "      <td>False</td>\n",
              "      <td>Wines</td>\n",
              "      <td>0.0</td>\n",
              "      <td>1.0</td>\n",
              "    </tr>\n",
              "    <tr>\n",
              "      <th>2.0</th>\n",
              "      <td>2.0</td>\n",
              "      <td>4141.0</td>\n",
              "      <td>1965.0</td>\n",
              "      <td>Graduation</td>\n",
              "      <td>Together</td>\n",
              "      <td>71613.0</td>\n",
              "      <td>0.0</td>\n",
              "      <td>0.0</td>\n",
              "      <td>21-08-2013</td>\n",
              "      <td>26.0</td>\n",
              "      <td>...</td>\n",
              "      <td>False</td>\n",
              "      <td>False</td>\n",
              "      <td>False</td>\n",
              "      <td>False</td>\n",
              "      <td>3.0</td>\n",
              "      <td>11.0</td>\n",
              "      <td>False</td>\n",
              "      <td>Wines</td>\n",
              "      <td>2.0</td>\n",
              "      <td>1.0</td>\n",
              "    </tr>\n",
              "    <tr>\n",
              "      <th>3.0</th>\n",
              "      <td>3.0</td>\n",
              "      <td>6182.0</td>\n",
              "      <td>1984.0</td>\n",
              "      <td>Graduation</td>\n",
              "      <td>Together</td>\n",
              "      <td>26646.0</td>\n",
              "      <td>1.0</td>\n",
              "      <td>0.0</td>\n",
              "      <td>10-02-2014</td>\n",
              "      <td>26.0</td>\n",
              "      <td>...</td>\n",
              "      <td>False</td>\n",
              "      <td>False</td>\n",
              "      <td>False</td>\n",
              "      <td>False</td>\n",
              "      <td>3.0</td>\n",
              "      <td>11.0</td>\n",
              "      <td>False</td>\n",
              "      <td>MeatProducts</td>\n",
              "      <td>2.0</td>\n",
              "      <td>1.0</td>\n",
              "    </tr>\n",
              "    <tr>\n",
              "      <th>4.0</th>\n",
              "      <td>4.0</td>\n",
              "      <td>5324.0</td>\n",
              "      <td>1981.0</td>\n",
              "      <td>PhD</td>\n",
              "      <td>Married</td>\n",
              "      <td>58293.0</td>\n",
              "      <td>1.0</td>\n",
              "      <td>0.0</td>\n",
              "      <td>19-01-2014</td>\n",
              "      <td>94.0</td>\n",
              "      <td>...</td>\n",
              "      <td>False</td>\n",
              "      <td>False</td>\n",
              "      <td>False</td>\n",
              "      <td>False</td>\n",
              "      <td>3.0</td>\n",
              "      <td>11.0</td>\n",
              "      <td>False</td>\n",
              "      <td>Wines</td>\n",
              "      <td>1.0</td>\n",
              "      <td>0.0</td>\n",
              "    </tr>\n",
              "    <tr>\n",
              "      <th>...</th>\n",
              "      <td>...</td>\n",
              "      <td>...</td>\n",
              "      <td>...</td>\n",
              "      <td>...</td>\n",
              "      <td>...</td>\n",
              "      <td>...</td>\n",
              "      <td>...</td>\n",
              "      <td>...</td>\n",
              "      <td>...</td>\n",
              "      <td>...</td>\n",
              "      <td>...</td>\n",
              "      <td>...</td>\n",
              "      <td>...</td>\n",
              "      <td>...</td>\n",
              "      <td>...</td>\n",
              "      <td>...</td>\n",
              "      <td>...</td>\n",
              "      <td>...</td>\n",
              "      <td>...</td>\n",
              "      <td>...</td>\n",
              "      <td>...</td>\n",
              "    </tr>\n",
              "    <tr>\n",
              "      <th>2235.0</th>\n",
              "      <td>2235.0</td>\n",
              "      <td>10870.0</td>\n",
              "      <td>1967.0</td>\n",
              "      <td>Graduation</td>\n",
              "      <td>Married</td>\n",
              "      <td>61223.0</td>\n",
              "      <td>0.0</td>\n",
              "      <td>1.0</td>\n",
              "      <td>13-06-2013</td>\n",
              "      <td>46.0</td>\n",
              "      <td>...</td>\n",
              "      <td>False</td>\n",
              "      <td>False</td>\n",
              "      <td>False</td>\n",
              "      <td>False</td>\n",
              "      <td>3.0</td>\n",
              "      <td>11.0</td>\n",
              "      <td>False</td>\n",
              "      <td>Wines</td>\n",
              "      <td>1.0</td>\n",
              "      <td>1.0</td>\n",
              "    </tr>\n",
              "    <tr>\n",
              "      <th>2236.0</th>\n",
              "      <td>2236.0</td>\n",
              "      <td>4001.0</td>\n",
              "      <td>1946.0</td>\n",
              "      <td>PhD</td>\n",
              "      <td>Together</td>\n",
              "      <td>64014.0</td>\n",
              "      <td>2.0</td>\n",
              "      <td>1.0</td>\n",
              "      <td>10-06-2014</td>\n",
              "      <td>56.0</td>\n",
              "      <td>...</td>\n",
              "      <td>False</td>\n",
              "      <td>True</td>\n",
              "      <td>False</td>\n",
              "      <td>False</td>\n",
              "      <td>3.0</td>\n",
              "      <td>11.0</td>\n",
              "      <td>False</td>\n",
              "      <td>Wines</td>\n",
              "      <td>2.0</td>\n",
              "      <td>0.0</td>\n",
              "    </tr>\n",
              "    <tr>\n",
              "      <th>2237.0</th>\n",
              "      <td>2237.0</td>\n",
              "      <td>7270.0</td>\n",
              "      <td>1981.0</td>\n",
              "      <td>Graduation</td>\n",
              "      <td>Divorced</td>\n",
              "      <td>56981.0</td>\n",
              "      <td>0.0</td>\n",
              "      <td>0.0</td>\n",
              "      <td>25-01-2014</td>\n",
              "      <td>91.0</td>\n",
              "      <td>...</td>\n",
              "      <td>False</td>\n",
              "      <td>False</td>\n",
              "      <td>False</td>\n",
              "      <td>False</td>\n",
              "      <td>3.0</td>\n",
              "      <td>11.0</td>\n",
              "      <td>False</td>\n",
              "      <td>Wines</td>\n",
              "      <td>3.0</td>\n",
              "      <td>1.0</td>\n",
              "    </tr>\n",
              "    <tr>\n",
              "      <th>2238.0</th>\n",
              "      <td>2238.0</td>\n",
              "      <td>8235.0</td>\n",
              "      <td>1956.0</td>\n",
              "      <td>Master</td>\n",
              "      <td>Together</td>\n",
              "      <td>69245.0</td>\n",
              "      <td>0.0</td>\n",
              "      <td>1.0</td>\n",
              "      <td>24-01-2014</td>\n",
              "      <td>8.0</td>\n",
              "      <td>...</td>\n",
              "      <td>False</td>\n",
              "      <td>False</td>\n",
              "      <td>False</td>\n",
              "      <td>False</td>\n",
              "      <td>3.0</td>\n",
              "      <td>11.0</td>\n",
              "      <td>False</td>\n",
              "      <td>Wines</td>\n",
              "      <td>2.0</td>\n",
              "      <td>2.0</td>\n",
              "    </tr>\n",
              "    <tr>\n",
              "      <th>2239.0</th>\n",
              "      <td>2239.0</td>\n",
              "      <td>9405.0</td>\n",
              "      <td>1954.0</td>\n",
              "      <td>PhD</td>\n",
              "      <td>Married</td>\n",
              "      <td>52869.0</td>\n",
              "      <td>1.0</td>\n",
              "      <td>1.0</td>\n",
              "      <td>15-10-2012</td>\n",
              "      <td>40.0</td>\n",
              "      <td>...</td>\n",
              "      <td>False</td>\n",
              "      <td>False</td>\n",
              "      <td>False</td>\n",
              "      <td>False</td>\n",
              "      <td>3.0</td>\n",
              "      <td>11.0</td>\n",
              "      <td>True</td>\n",
              "      <td>Wines</td>\n",
              "      <td>1.0</td>\n",
              "      <td>0.0</td>\n",
              "    </tr>\n",
              "  </tbody>\n",
              "</table>\n",
              "<p>2240 rows × 33 columns</p>\n",
              "</div>\n",
              "      <button class=\"colab-df-convert\" onclick=\"convertToInteractive('df-803f966d-5113-4e05-9446-0db832e7b3a9')\"\n",
              "              title=\"Convert this dataframe to an interactive table.\"\n",
              "              style=\"display:none;\">\n",
              "        \n",
              "  <svg xmlns=\"http://www.w3.org/2000/svg\" height=\"24px\"viewBox=\"0 0 24 24\"\n",
              "       width=\"24px\">\n",
              "    <path d=\"M0 0h24v24H0V0z\" fill=\"none\"/>\n",
              "    <path d=\"M18.56 5.44l.94 2.06.94-2.06 2.06-.94-2.06-.94-.94-2.06-.94 2.06-2.06.94zm-11 1L8.5 8.5l.94-2.06 2.06-.94-2.06-.94L8.5 2.5l-.94 2.06-2.06.94zm10 10l.94 2.06.94-2.06 2.06-.94-2.06-.94-.94-2.06-.94 2.06-2.06.94z\"/><path d=\"M17.41 7.96l-1.37-1.37c-.4-.4-.92-.59-1.43-.59-.52 0-1.04.2-1.43.59L10.3 9.45l-7.72 7.72c-.78.78-.78 2.05 0 2.83L4 21.41c.39.39.9.59 1.41.59.51 0 1.02-.2 1.41-.59l7.78-7.78 2.81-2.81c.8-.78.8-2.07 0-2.86zM5.41 20L4 18.59l7.72-7.72 1.47 1.35L5.41 20z\"/>\n",
              "  </svg>\n",
              "      </button>\n",
              "      \n",
              "  <style>\n",
              "    .colab-df-container {\n",
              "      display:flex;\n",
              "      flex-wrap:wrap;\n",
              "      gap: 12px;\n",
              "    }\n",
              "\n",
              "    .colab-df-convert {\n",
              "      background-color: #E8F0FE;\n",
              "      border: none;\n",
              "      border-radius: 50%;\n",
              "      cursor: pointer;\n",
              "      display: none;\n",
              "      fill: #1967D2;\n",
              "      height: 32px;\n",
              "      padding: 0 0 0 0;\n",
              "      width: 32px;\n",
              "    }\n",
              "\n",
              "    .colab-df-convert:hover {\n",
              "      background-color: #E2EBFA;\n",
              "      box-shadow: 0px 1px 2px rgba(60, 64, 67, 0.3), 0px 1px 3px 1px rgba(60, 64, 67, 0.15);\n",
              "      fill: #174EA6;\n",
              "    }\n",
              "\n",
              "    [theme=dark] .colab-df-convert {\n",
              "      background-color: #3B4455;\n",
              "      fill: #D2E3FC;\n",
              "    }\n",
              "\n",
              "    [theme=dark] .colab-df-convert:hover {\n",
              "      background-color: #434B5C;\n",
              "      box-shadow: 0px 1px 3px 1px rgba(0, 0, 0, 0.15);\n",
              "      filter: drop-shadow(0px 1px 2px rgba(0, 0, 0, 0.3));\n",
              "      fill: #FFFFFF;\n",
              "    }\n",
              "  </style>\n",
              "\n",
              "      <script>\n",
              "        const buttonEl =\n",
              "          document.querySelector('#df-803f966d-5113-4e05-9446-0db832e7b3a9 button.colab-df-convert');\n",
              "        buttonEl.style.display =\n",
              "          google.colab.kernel.accessAllowed ? 'block' : 'none';\n",
              "\n",
              "        async function convertToInteractive(key) {\n",
              "          const element = document.querySelector('#df-803f966d-5113-4e05-9446-0db832e7b3a9');\n",
              "          const dataTable =\n",
              "            await google.colab.kernel.invokeFunction('convertToInteractive',\n",
              "                                                     [key], {});\n",
              "          if (!dataTable) return;\n",
              "\n",
              "          const docLinkHtml = 'Like what you see? Visit the ' +\n",
              "            '<a target=\"_blank\" href=https://colab.research.google.com/notebooks/data_table.ipynb>data table notebook</a>'\n",
              "            + ' to learn more about interactive tables.';\n",
              "          element.innerHTML = '';\n",
              "          dataTable['output_type'] = 'display_data';\n",
              "          await google.colab.output.renderOutput(dataTable, element);\n",
              "          const docLink = document.createElement('div');\n",
              "          docLink.innerHTML = docLinkHtml;\n",
              "          element.appendChild(docLink);\n",
              "        }\n",
              "      </script>\n",
              "    </div>\n",
              "  </div>\n",
              "  "
            ]
          },
          "metadata": {},
          "execution_count": 65
        }
      ]
    },
    {
      "cell_type": "markdown",
      "source": [
        "IMPORTAR GITHUB\n",
        "\n"
      ],
      "metadata": {
        "id": "8Wlq8jIY5XK5"
      }
    },
    {
      "cell_type": "code",
      "source": [
        "url=\"https://raw.githubusercontent.com/agconti/kaggle-titanic/master/data/test.csv\"\n",
        "df4=pd.read_csv(url,index_col=0) #index la primer col es el indice\n",
        "\n",
        "df4\n"
      ],
      "metadata": {
        "id": "foi54G2LBO6l"
      },
      "execution_count": null,
      "outputs": []
    },
    {
      "cell_type": "markdown",
      "source": [
        "IMPORTAR APIS"
      ],
      "metadata": {
        "id": "tEXfSzA_B8cy"
      }
    },
    {
      "cell_type": "markdown",
      "source": [
        "te la debo"
      ],
      "metadata": {
        "id": "0K8XriA3CaKm"
      }
    },
    {
      "cell_type": "markdown",
      "source": [
        "# MANIPULACION DE PANDAS / SELECCION Y ETC"
      ],
      "metadata": {
        "id": "Vkz5f3lxCh0b"
      }
    },
    {
      "cell_type": "code",
      "source": [
        "import pandas as pd"
      ],
      "metadata": {
        "id": "IX6WHobzD6sq"
      },
      "execution_count": null,
      "outputs": []
    },
    {
      "cell_type": "markdown",
      "source": [
        "CREO MI TABLA DE EJEMPLO"
      ],
      "metadata": {
        "id": "JmcI2jhjFBGR"
      }
    },
    {
      "cell_type": "code",
      "source": [
        "modelos = ['A4 3.0 Quattro 4dr manual', 'A4 3.0 Quattro 4dr auto', 'A6 3.0 4dr', 'A6 3.0 Quattro 4dr', 'A4 3.0 convertible 2dr'] #este sera el indice\n",
        "peso = [3583, 3627, 3561, 3880, 3814] #columna 1\n",
        "precios =[33430,34480,36640,39640,42490] #columna 2\n",
        "\n",
        "df10=pd.DataFrame({'peso':peso,'precios':precios}, index=modelos)\n"
      ],
      "metadata": {
        "id": "ENKBBnhhEEIe"
      },
      "execution_count": null,
      "outputs": []
    },
    {
      "cell_type": "markdown",
      "source": [
        "SELECCION"
      ],
      "metadata": {
        "id": "u_VSRtm_FFD5"
      }
    },
    {
      "cell_type": "code",
      "source": [
        "df10.index #VER INDICES\n"
      ],
      "metadata": {
        "id": "wYjOTBrJFVlg"
      },
      "execution_count": null,
      "outputs": []
    },
    {
      "cell_type": "code",
      "source": [
        "df10.columns #VER COLUMNAS"
      ],
      "metadata": {
        "id": "jUcrZuT-IiKv"
      },
      "execution_count": null,
      "outputs": []
    },
    {
      "cell_type": "code",
      "source": [
        "df10.values #VER VALORES"
      ],
      "metadata": {
        "id": "TZBSEkJGIiNC"
      },
      "execution_count": null,
      "outputs": []
    },
    {
      "cell_type": "code",
      "source": [
        "df10.values[2] # Seleccionar una fila"
      ],
      "metadata": {
        "id": "R-qjLG7rItG1"
      },
      "execution_count": null,
      "outputs": []
    },
    {
      "cell_type": "code",
      "source": [
        "df10.values[2] # Seleccionar una fila determinada\n",
        "\n",
        "df10[\"peso\"] # Seleccionar una columna determinada"
      ],
      "metadata": {
        "id": "xxaBs_gvMOtq"
      },
      "execution_count": null,
      "outputs": []
    },
    {
      "cell_type": "markdown",
      "source": [
        "SELECCION CON LOC"
      ],
      "metadata": {
        "id": "h9oUKn1yMzu-"
      }
    },
    {
      "cell_type": "markdown",
      "source": [
        "Para seleccionar filas, columnas o celdas especificas usando **ETIQUETAS**\n",
        "\n",
        "Podemos escribirlo asi:\n",
        "\n",
        "* **dataframe.loc[etiqueta de la fila, etiqueta de la columna]**\n",
        "\n",
        "* Si queremos seleccionar todas las filas para una columna solamente:\n",
        "  **dataframe.loc[:, etiqueta de la columna]**\n",
        "\n",
        "* Si queremos seleccionar todas las columnas para una fila solamente:\n",
        "  **dataframe.loc[etiqueta de la fila, :]**\n"
      ],
      "metadata": {
        "id": "LK7B6hN1NDSC"
      }
    },
    {
      "cell_type": "code",
      "source": [
        "df10.loc['A4 3.0 Quattro 4dr manual',:] #aca solo selecciono fila"
      ],
      "metadata": {
        "id": "JMuPNzmnMzZN"
      },
      "execution_count": null,
      "outputs": []
    },
    {
      "cell_type": "code",
      "source": [
        "df10.loc[:,'peso'] #aca solo selecciono columna"
      ],
      "metadata": {
        "id": "e7GeMvuQNuzA"
      },
      "execution_count": null,
      "outputs": []
    },
    {
      "cell_type": "code",
      "source": [
        "df10.loc['A4 3.0 Quattro 4dr manual',\"peso\"] #Fila 1 y Columna 1"
      ],
      "metadata": {
        "colab": {
          "base_uri": "https://localhost:8080/"
        },
        "id": "uX39ZE-dO8c5",
        "outputId": "6770b6d6-5e6c-40ca-80fd-15d657d1646e"
      },
      "execution_count": null,
      "outputs": [
        {
          "output_type": "execute_result",
          "data": {
            "text/plain": [
              "3583"
            ]
          },
          "metadata": {},
          "execution_count": 90
        }
      ]
    },
    {
      "cell_type": "markdown",
      "source": [],
      "metadata": {
        "id": "R-ye0YOSPkCa"
      }
    },
    {
      "cell_type": "markdown",
      "source": [
        " SELECCION CON ILOC"
      ],
      "metadata": {
        "id": "hYv8pb0mPNAB"
      }
    },
    {
      "cell_type": "markdown",
      "source": [
        "Para seleccionar filas, columnas o celdas especificas usando **POSICIONES NUMERICAS**\n",
        "\n",
        "Podemos escribirlo asi:\n",
        "\n",
        "* **dataframe.iloc[posicion de la fila, posicion de la columna]**\n",
        "\n",
        "* Si queremos seleccionar todas las filas para una columna solamente:\n",
        "  **dataframe.iloc[:, posicion de la columna]**\n",
        "\n",
        "* Si queremos seleccionar todas las columnas para una fila solamente:\n",
        "  **dataframe.iloc[posicion de la fila, :]**"
      ],
      "metadata": {
        "id": "t54cuLedPdye"
      }
    },
    {
      "cell_type": "code",
      "source": [
        "df10.iloc[1,:] #aca solo selecciono fila"
      ],
      "metadata": {
        "colab": {
          "base_uri": "https://localhost:8080/"
        },
        "id": "pygoeLfBPz_u",
        "outputId": "51edbb93-c83d-49b3-dfc4-1a08ed1dd323"
      },
      "execution_count": null,
      "outputs": [
        {
          "output_type": "execute_result",
          "data": {
            "text/plain": [
              "peso        3627\n",
              "precios    34480\n",
              "Name: A4 3.0 Quattro 4dr auto, dtype: int64"
            ]
          },
          "metadata": {},
          "execution_count": 97
        }
      ]
    },
    {
      "cell_type": "code",
      "source": [
        "df10.iloc[:,1] #aca solo selecciono columna"
      ],
      "metadata": {
        "colab": {
          "base_uri": "https://localhost:8080/"
        },
        "id": "VPOFqS1aQEzn",
        "outputId": "e342f4fc-dfc8-4a40-ba3c-733dab6c0bd7"
      },
      "execution_count": null,
      "outputs": [
        {
          "output_type": "execute_result",
          "data": {
            "text/plain": [
              "A4 3.0 Quattro 4dr manual    33430\n",
              "A4 3.0 Quattro 4dr auto      34480\n",
              "A6 3.0 4dr                   36640\n",
              "A6 3.0 Quattro 4dr           39640\n",
              "A4 3.0 convertible 2dr       42490\n",
              "Name: precios, dtype: int64"
            ]
          },
          "metadata": {},
          "execution_count": 96
        }
      ]
    },
    {
      "cell_type": "code",
      "source": [
        "df10.loc[1,1] #Fila 1 y Columna 1"
      ],
      "metadata": {
        "colab": {
          "base_uri": "https://localhost:8080/",
          "height": 602
        },
        "id": "H1BK_r8xQCwx",
        "outputId": "e9c98109-17fa-4d0d-af8f-d8eec2bc463d"
      },
      "execution_count": null,
      "outputs": [
        {
          "output_type": "error",
          "ename": "KeyError",
          "evalue": "ignored",
          "traceback": [
            "\u001b[0;31m---------------------------------------------------------------------------\u001b[0m",
            "\u001b[0;31mKeyError\u001b[0m                                  Traceback (most recent call last)",
            "\u001b[0;32m/usr/local/lib/python3.7/dist-packages/pandas/core/indexes/base.py\u001b[0m in \u001b[0;36mget_loc\u001b[0;34m(self, key, method, tolerance)\u001b[0m\n\u001b[1;32m   3360\u001b[0m             \u001b[0;32mtry\u001b[0m\u001b[0;34m:\u001b[0m\u001b[0;34m\u001b[0m\u001b[0;34m\u001b[0m\u001b[0m\n\u001b[0;32m-> 3361\u001b[0;31m                 \u001b[0;32mreturn\u001b[0m \u001b[0mself\u001b[0m\u001b[0;34m.\u001b[0m\u001b[0m_engine\u001b[0m\u001b[0;34m.\u001b[0m\u001b[0mget_loc\u001b[0m\u001b[0;34m(\u001b[0m\u001b[0mcasted_key\u001b[0m\u001b[0;34m)\u001b[0m\u001b[0;34m\u001b[0m\u001b[0;34m\u001b[0m\u001b[0m\n\u001b[0m\u001b[1;32m   3362\u001b[0m             \u001b[0;32mexcept\u001b[0m \u001b[0mKeyError\u001b[0m \u001b[0;32mas\u001b[0m \u001b[0merr\u001b[0m\u001b[0;34m:\u001b[0m\u001b[0;34m\u001b[0m\u001b[0;34m\u001b[0m\u001b[0m\n",
            "\u001b[0;32m/usr/local/lib/python3.7/dist-packages/pandas/_libs/index.pyx\u001b[0m in \u001b[0;36mpandas._libs.index.IndexEngine.get_loc\u001b[0;34m()\u001b[0m\n",
            "\u001b[0;32m/usr/local/lib/python3.7/dist-packages/pandas/_libs/index.pyx\u001b[0m in \u001b[0;36mpandas._libs.index.IndexEngine.get_loc\u001b[0;34m()\u001b[0m\n",
            "\u001b[0;32mpandas/_libs/hashtable_class_helper.pxi\u001b[0m in \u001b[0;36mpandas._libs.hashtable.PyObjectHashTable.get_item\u001b[0;34m()\u001b[0m\n",
            "\u001b[0;32mpandas/_libs/hashtable_class_helper.pxi\u001b[0m in \u001b[0;36mpandas._libs.hashtable.PyObjectHashTable.get_item\u001b[0;34m()\u001b[0m\n",
            "\u001b[0;31mKeyError\u001b[0m: 1",
            "\nThe above exception was the direct cause of the following exception:\n",
            "\u001b[0;31mKeyError\u001b[0m                                  Traceback (most recent call last)",
            "\u001b[0;32m<ipython-input-95-cf4babcad59c>\u001b[0m in \u001b[0;36m<module>\u001b[0;34m\u001b[0m\n\u001b[0;32m----> 1\u001b[0;31m \u001b[0mdf10\u001b[0m\u001b[0;34m.\u001b[0m\u001b[0mloc\u001b[0m\u001b[0;34m[\u001b[0m\u001b[0;36m1\u001b[0m\u001b[0;34m,\u001b[0m\u001b[0;36m1\u001b[0m\u001b[0;34m]\u001b[0m \u001b[0;31m#Fila 1 y Columna 1\u001b[0m\u001b[0;34m\u001b[0m\u001b[0;34m\u001b[0m\u001b[0m\n\u001b[0m",
            "\u001b[0;32m/usr/local/lib/python3.7/dist-packages/pandas/core/indexing.py\u001b[0m in \u001b[0;36m__getitem__\u001b[0;34m(self, key)\u001b[0m\n\u001b[1;32m    923\u001b[0m                 \u001b[0;32mwith\u001b[0m \u001b[0msuppress\u001b[0m\u001b[0;34m(\u001b[0m\u001b[0mKeyError\u001b[0m\u001b[0;34m,\u001b[0m \u001b[0mIndexError\u001b[0m\u001b[0;34m)\u001b[0m\u001b[0;34m:\u001b[0m\u001b[0;34m\u001b[0m\u001b[0;34m\u001b[0m\u001b[0m\n\u001b[1;32m    924\u001b[0m                     \u001b[0;32mreturn\u001b[0m \u001b[0mself\u001b[0m\u001b[0;34m.\u001b[0m\u001b[0mobj\u001b[0m\u001b[0;34m.\u001b[0m\u001b[0m_get_value\u001b[0m\u001b[0;34m(\u001b[0m\u001b[0;34m*\u001b[0m\u001b[0mkey\u001b[0m\u001b[0;34m,\u001b[0m \u001b[0mtakeable\u001b[0m\u001b[0;34m=\u001b[0m\u001b[0mself\u001b[0m\u001b[0;34m.\u001b[0m\u001b[0m_takeable\u001b[0m\u001b[0;34m)\u001b[0m\u001b[0;34m\u001b[0m\u001b[0;34m\u001b[0m\u001b[0m\n\u001b[0;32m--> 925\u001b[0;31m             \u001b[0;32mreturn\u001b[0m \u001b[0mself\u001b[0m\u001b[0;34m.\u001b[0m\u001b[0m_getitem_tuple\u001b[0m\u001b[0;34m(\u001b[0m\u001b[0mkey\u001b[0m\u001b[0;34m)\u001b[0m\u001b[0;34m\u001b[0m\u001b[0;34m\u001b[0m\u001b[0m\n\u001b[0m\u001b[1;32m    926\u001b[0m         \u001b[0;32melse\u001b[0m\u001b[0;34m:\u001b[0m\u001b[0;34m\u001b[0m\u001b[0;34m\u001b[0m\u001b[0m\n\u001b[1;32m    927\u001b[0m             \u001b[0;31m# we by definition only have the 0th axis\u001b[0m\u001b[0;34m\u001b[0m\u001b[0;34m\u001b[0m\u001b[0;34m\u001b[0m\u001b[0m\n",
            "\u001b[0;32m/usr/local/lib/python3.7/dist-packages/pandas/core/indexing.py\u001b[0m in \u001b[0;36m_getitem_tuple\u001b[0;34m(self, tup)\u001b[0m\n\u001b[1;32m   1098\u001b[0m     \u001b[0;32mdef\u001b[0m \u001b[0m_getitem_tuple\u001b[0m\u001b[0;34m(\u001b[0m\u001b[0mself\u001b[0m\u001b[0;34m,\u001b[0m \u001b[0mtup\u001b[0m\u001b[0;34m:\u001b[0m \u001b[0mtuple\u001b[0m\u001b[0;34m)\u001b[0m\u001b[0;34m:\u001b[0m\u001b[0;34m\u001b[0m\u001b[0;34m\u001b[0m\u001b[0m\n\u001b[1;32m   1099\u001b[0m         \u001b[0;32mwith\u001b[0m \u001b[0msuppress\u001b[0m\u001b[0;34m(\u001b[0m\u001b[0mIndexingError\u001b[0m\u001b[0;34m)\u001b[0m\u001b[0;34m:\u001b[0m\u001b[0;34m\u001b[0m\u001b[0;34m\u001b[0m\u001b[0m\n\u001b[0;32m-> 1100\u001b[0;31m             \u001b[0;32mreturn\u001b[0m \u001b[0mself\u001b[0m\u001b[0;34m.\u001b[0m\u001b[0m_getitem_lowerdim\u001b[0m\u001b[0;34m(\u001b[0m\u001b[0mtup\u001b[0m\u001b[0;34m)\u001b[0m\u001b[0;34m\u001b[0m\u001b[0;34m\u001b[0m\u001b[0m\n\u001b[0m\u001b[1;32m   1101\u001b[0m \u001b[0;34m\u001b[0m\u001b[0m\n\u001b[1;32m   1102\u001b[0m         \u001b[0;31m# no multi-index, so validate all of the indexers\u001b[0m\u001b[0;34m\u001b[0m\u001b[0;34m\u001b[0m\u001b[0;34m\u001b[0m\u001b[0m\n",
            "\u001b[0;32m/usr/local/lib/python3.7/dist-packages/pandas/core/indexing.py\u001b[0m in \u001b[0;36m_getitem_lowerdim\u001b[0;34m(self, tup)\u001b[0m\n\u001b[1;32m    836\u001b[0m                 \u001b[0;31m# We don't need to check for tuples here because those are\u001b[0m\u001b[0;34m\u001b[0m\u001b[0;34m\u001b[0m\u001b[0;34m\u001b[0m\u001b[0m\n\u001b[1;32m    837\u001b[0m                 \u001b[0;31m#  caught by the _is_nested_tuple_indexer check above.\u001b[0m\u001b[0;34m\u001b[0m\u001b[0;34m\u001b[0m\u001b[0;34m\u001b[0m\u001b[0m\n\u001b[0;32m--> 838\u001b[0;31m                 \u001b[0msection\u001b[0m \u001b[0;34m=\u001b[0m \u001b[0mself\u001b[0m\u001b[0;34m.\u001b[0m\u001b[0m_getitem_axis\u001b[0m\u001b[0;34m(\u001b[0m\u001b[0mkey\u001b[0m\u001b[0;34m,\u001b[0m \u001b[0maxis\u001b[0m\u001b[0;34m=\u001b[0m\u001b[0mi\u001b[0m\u001b[0;34m)\u001b[0m\u001b[0;34m\u001b[0m\u001b[0;34m\u001b[0m\u001b[0m\n\u001b[0m\u001b[1;32m    839\u001b[0m \u001b[0;34m\u001b[0m\u001b[0m\n\u001b[1;32m    840\u001b[0m                 \u001b[0;31m# We should never have a scalar section here, because\u001b[0m\u001b[0;34m\u001b[0m\u001b[0;34m\u001b[0m\u001b[0;34m\u001b[0m\u001b[0m\n",
            "\u001b[0;32m/usr/local/lib/python3.7/dist-packages/pandas/core/indexing.py\u001b[0m in \u001b[0;36m_getitem_axis\u001b[0;34m(self, key, axis)\u001b[0m\n\u001b[1;32m   1162\u001b[0m         \u001b[0;31m# fall thru to straight lookup\u001b[0m\u001b[0;34m\u001b[0m\u001b[0;34m\u001b[0m\u001b[0;34m\u001b[0m\u001b[0m\n\u001b[1;32m   1163\u001b[0m         \u001b[0mself\u001b[0m\u001b[0;34m.\u001b[0m\u001b[0m_validate_key\u001b[0m\u001b[0;34m(\u001b[0m\u001b[0mkey\u001b[0m\u001b[0;34m,\u001b[0m \u001b[0maxis\u001b[0m\u001b[0;34m)\u001b[0m\u001b[0;34m\u001b[0m\u001b[0;34m\u001b[0m\u001b[0m\n\u001b[0;32m-> 1164\u001b[0;31m         \u001b[0;32mreturn\u001b[0m \u001b[0mself\u001b[0m\u001b[0;34m.\u001b[0m\u001b[0m_get_label\u001b[0m\u001b[0;34m(\u001b[0m\u001b[0mkey\u001b[0m\u001b[0;34m,\u001b[0m \u001b[0maxis\u001b[0m\u001b[0;34m=\u001b[0m\u001b[0maxis\u001b[0m\u001b[0;34m)\u001b[0m\u001b[0;34m\u001b[0m\u001b[0;34m\u001b[0m\u001b[0m\n\u001b[0m\u001b[1;32m   1165\u001b[0m \u001b[0;34m\u001b[0m\u001b[0m\n\u001b[1;32m   1166\u001b[0m     \u001b[0;32mdef\u001b[0m \u001b[0m_get_slice_axis\u001b[0m\u001b[0;34m(\u001b[0m\u001b[0mself\u001b[0m\u001b[0;34m,\u001b[0m \u001b[0mslice_obj\u001b[0m\u001b[0;34m:\u001b[0m \u001b[0mslice\u001b[0m\u001b[0;34m,\u001b[0m \u001b[0maxis\u001b[0m\u001b[0;34m:\u001b[0m \u001b[0mint\u001b[0m\u001b[0;34m)\u001b[0m\u001b[0;34m:\u001b[0m\u001b[0;34m\u001b[0m\u001b[0;34m\u001b[0m\u001b[0m\n",
            "\u001b[0;32m/usr/local/lib/python3.7/dist-packages/pandas/core/indexing.py\u001b[0m in \u001b[0;36m_get_label\u001b[0;34m(self, label, axis)\u001b[0m\n\u001b[1;32m   1111\u001b[0m     \u001b[0;32mdef\u001b[0m \u001b[0m_get_label\u001b[0m\u001b[0;34m(\u001b[0m\u001b[0mself\u001b[0m\u001b[0;34m,\u001b[0m \u001b[0mlabel\u001b[0m\u001b[0;34m,\u001b[0m \u001b[0maxis\u001b[0m\u001b[0;34m:\u001b[0m \u001b[0mint\u001b[0m\u001b[0;34m)\u001b[0m\u001b[0;34m:\u001b[0m\u001b[0;34m\u001b[0m\u001b[0;34m\u001b[0m\u001b[0m\n\u001b[1;32m   1112\u001b[0m         \u001b[0;31m# GH#5667 this will fail if the label is not present in the axis.\u001b[0m\u001b[0;34m\u001b[0m\u001b[0;34m\u001b[0m\u001b[0;34m\u001b[0m\u001b[0m\n\u001b[0;32m-> 1113\u001b[0;31m         \u001b[0;32mreturn\u001b[0m \u001b[0mself\u001b[0m\u001b[0;34m.\u001b[0m\u001b[0mobj\u001b[0m\u001b[0;34m.\u001b[0m\u001b[0mxs\u001b[0m\u001b[0;34m(\u001b[0m\u001b[0mlabel\u001b[0m\u001b[0;34m,\u001b[0m \u001b[0maxis\u001b[0m\u001b[0;34m=\u001b[0m\u001b[0maxis\u001b[0m\u001b[0;34m)\u001b[0m\u001b[0;34m\u001b[0m\u001b[0;34m\u001b[0m\u001b[0m\n\u001b[0m\u001b[1;32m   1114\u001b[0m \u001b[0;34m\u001b[0m\u001b[0m\n\u001b[1;32m   1115\u001b[0m     \u001b[0;32mdef\u001b[0m \u001b[0m_handle_lowerdim_multi_index_axis0\u001b[0m\u001b[0;34m(\u001b[0m\u001b[0mself\u001b[0m\u001b[0;34m,\u001b[0m \u001b[0mtup\u001b[0m\u001b[0;34m:\u001b[0m \u001b[0mtuple\u001b[0m\u001b[0;34m)\u001b[0m\u001b[0;34m:\u001b[0m\u001b[0;34m\u001b[0m\u001b[0;34m\u001b[0m\u001b[0m\n",
            "\u001b[0;32m/usr/local/lib/python3.7/dist-packages/pandas/core/generic.py\u001b[0m in \u001b[0;36mxs\u001b[0;34m(self, key, axis, level, drop_level)\u001b[0m\n\u001b[1;32m   3774\u001b[0m                 \u001b[0;32mraise\u001b[0m \u001b[0mTypeError\u001b[0m\u001b[0;34m(\u001b[0m\u001b[0;34mf\"Expected label or tuple of labels, got {key}\"\u001b[0m\u001b[0;34m)\u001b[0m \u001b[0;32mfrom\u001b[0m \u001b[0me\u001b[0m\u001b[0;34m\u001b[0m\u001b[0;34m\u001b[0m\u001b[0m\n\u001b[1;32m   3775\u001b[0m         \u001b[0;32melse\u001b[0m\u001b[0;34m:\u001b[0m\u001b[0;34m\u001b[0m\u001b[0;34m\u001b[0m\u001b[0m\n\u001b[0;32m-> 3776\u001b[0;31m             \u001b[0mloc\u001b[0m \u001b[0;34m=\u001b[0m \u001b[0mindex\u001b[0m\u001b[0;34m.\u001b[0m\u001b[0mget_loc\u001b[0m\u001b[0;34m(\u001b[0m\u001b[0mkey\u001b[0m\u001b[0;34m)\u001b[0m\u001b[0;34m\u001b[0m\u001b[0;34m\u001b[0m\u001b[0m\n\u001b[0m\u001b[1;32m   3777\u001b[0m \u001b[0;34m\u001b[0m\u001b[0m\n\u001b[1;32m   3778\u001b[0m             \u001b[0;32mif\u001b[0m \u001b[0misinstance\u001b[0m\u001b[0;34m(\u001b[0m\u001b[0mloc\u001b[0m\u001b[0;34m,\u001b[0m \u001b[0mnp\u001b[0m\u001b[0;34m.\u001b[0m\u001b[0mndarray\u001b[0m\u001b[0;34m)\u001b[0m\u001b[0;34m:\u001b[0m\u001b[0;34m\u001b[0m\u001b[0;34m\u001b[0m\u001b[0m\n",
            "\u001b[0;32m/usr/local/lib/python3.7/dist-packages/pandas/core/indexes/base.py\u001b[0m in \u001b[0;36mget_loc\u001b[0;34m(self, key, method, tolerance)\u001b[0m\n\u001b[1;32m   3361\u001b[0m                 \u001b[0;32mreturn\u001b[0m \u001b[0mself\u001b[0m\u001b[0;34m.\u001b[0m\u001b[0m_engine\u001b[0m\u001b[0;34m.\u001b[0m\u001b[0mget_loc\u001b[0m\u001b[0;34m(\u001b[0m\u001b[0mcasted_key\u001b[0m\u001b[0;34m)\u001b[0m\u001b[0;34m\u001b[0m\u001b[0;34m\u001b[0m\u001b[0m\n\u001b[1;32m   3362\u001b[0m             \u001b[0;32mexcept\u001b[0m \u001b[0mKeyError\u001b[0m \u001b[0;32mas\u001b[0m \u001b[0merr\u001b[0m\u001b[0;34m:\u001b[0m\u001b[0;34m\u001b[0m\u001b[0;34m\u001b[0m\u001b[0m\n\u001b[0;32m-> 3363\u001b[0;31m                 \u001b[0;32mraise\u001b[0m \u001b[0mKeyError\u001b[0m\u001b[0;34m(\u001b[0m\u001b[0mkey\u001b[0m\u001b[0;34m)\u001b[0m \u001b[0;32mfrom\u001b[0m \u001b[0merr\u001b[0m\u001b[0;34m\u001b[0m\u001b[0;34m\u001b[0m\u001b[0m\n\u001b[0m\u001b[1;32m   3364\u001b[0m \u001b[0;34m\u001b[0m\u001b[0m\n\u001b[1;32m   3365\u001b[0m         \u001b[0;32mif\u001b[0m \u001b[0mis_scalar\u001b[0m\u001b[0;34m(\u001b[0m\u001b[0mkey\u001b[0m\u001b[0;34m)\u001b[0m \u001b[0;32mand\u001b[0m \u001b[0misna\u001b[0m\u001b[0;34m(\u001b[0m\u001b[0mkey\u001b[0m\u001b[0;34m)\u001b[0m \u001b[0;32mand\u001b[0m \u001b[0;32mnot\u001b[0m \u001b[0mself\u001b[0m\u001b[0;34m.\u001b[0m\u001b[0mhasnans\u001b[0m\u001b[0;34m:\u001b[0m\u001b[0;34m\u001b[0m\u001b[0;34m\u001b[0m\u001b[0m\n",
            "\u001b[0;31mKeyError\u001b[0m: 1"
          ]
        }
      ]
    },
    {
      "cell_type": "markdown",
      "source": [
        "SELECCION X CONDICIONALES"
      ],
      "metadata": {
        "id": "MhRuLHpVQfIb"
      }
    },
    {
      "cell_type": "code",
      "source": [
        "df10.loc[df10.peso>=3600,'precios'] #con una condicion"
      ],
      "metadata": {
        "colab": {
          "base_uri": "https://localhost:8080/"
        },
        "id": "M2nXVkhcQe0a",
        "outputId": "7179e010-7ea5-41bd-fd9a-d84e4167ccef"
      },
      "execution_count": null,
      "outputs": [
        {
          "output_type": "execute_result",
          "data": {
            "text/plain": [
              "A4 3.0 Quattro 4dr auto    34480\n",
              "A6 3.0 Quattro 4dr         39640\n",
              "A4 3.0 convertible 2dr     42490\n",
              "Name: precios, dtype: int64"
            ]
          },
          "metadata": {},
          "execution_count": 99
        }
      ]
    },
    {
      "cell_type": "markdown",
      "source": [
        "# OPERACIONES BASICAS"
      ],
      "metadata": {
        "id": "qhTzsBTqS89v"
      }
    },
    {
      "cell_type": "markdown",
      "source": [
        "#UFUNCS (UNIVERSAL FUNCTIONS)"
      ],
      "metadata": {
        "id": "MgkOnmzGTcde"
      }
    },
    {
      "cell_type": "markdown",
      "source": [
        "TRASPONER"
      ],
      "metadata": {
        "id": "RjVt7zAYTDIn"
      }
    },
    {
      "cell_type": "code",
      "source": [
        "df.T"
      ],
      "metadata": {
        "id": "q1qYCy1PTGxV"
      },
      "execution_count": null,
      "outputs": []
    },
    {
      "cell_type": "markdown",
      "source": [
        "CARGO EL DATAFRAME"
      ],
      "metadata": {
        "id": "zG1h7pYy1puC"
      }
    },
    {
      "cell_type": "code",
      "source": [
        "import pandas as pd\n",
        "\n",
        "modelos = ['A4 3.0 Quattro 4dr manual', 'A4 3.0 Quattro 4dr auto', 'A6 3.0 4dr', 'A6 3.0 Quattro 4dr', 'A4 3.0 convertible 2dr'] #este sera el indice\n",
        "peso = [3583, 3627, 3561, 3880, 3814] #columna 1\n",
        "precios =[33430,34480,36640,39640,42490] #columna 2"
      ],
      "metadata": {
        "id": "rybdF6Tw3p82"
      },
      "execution_count": null,
      "outputs": []
    },
    {
      "cell_type": "markdown",
      "source": [
        "CALCULAR PORCENTAJE"
      ],
      "metadata": {
        "id": "sW5X168A1p1W"
      }
    },
    {
      "cell_type": "markdown",
      "source": [
        "DIVIDO EL DATA FRAME POR LA FILA 0"
      ],
      "metadata": {
        "id": "A1IHguai3cRn"
      }
    },
    {
      "cell_type": "code",
      "source": [
        "\n",
        "\n",
        "df10=pd.DataFrame({'peso':peso,'precios':precios}, index=modelos)\n",
        "\n",
        "(df10/df10.iloc[0])*100\n"
      ],
      "metadata": {
        "id": "7Qn13uyp14xo"
      },
      "execution_count": null,
      "outputs": []
    }
  ]
}